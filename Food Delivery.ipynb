{
 "cells": [
  {
   "cell_type": "markdown",
   "metadata": {},
   "source": [
    "#  Importing Libraries"
   ]
  },
  {
   "cell_type": "code",
   "execution_count": 1,
   "metadata": {},
   "outputs": [],
   "source": [
    "import numpy as np\n",
    "import pandas as pd\n",
    "import seaborn as sns\n",
    "import matplotlib.pyplot as plt\n",
    "%matplotlib inline\n",
    "import warnings\n",
    "warnings.filterwarnings('ignore')"
   ]
  },
  {
   "cell_type": "markdown",
   "metadata": {},
   "source": [
    "# Importing dataset"
   ]
  },
  {
   "cell_type": "code",
   "execution_count": 2,
   "metadata": {},
   "outputs": [
    {
     "data": {
      "text/html": [
       "<div>\n",
       "<style scoped>\n",
       "    .dataframe tbody tr th:only-of-type {\n",
       "        vertical-align: middle;\n",
       "    }\n",
       "\n",
       "    .dataframe tbody tr th {\n",
       "        vertical-align: top;\n",
       "    }\n",
       "\n",
       "    .dataframe thead th {\n",
       "        text-align: right;\n",
       "    }\n",
       "</style>\n",
       "<table border=\"1\" class=\"dataframe\">\n",
       "  <thead>\n",
       "    <tr style=\"text-align: right;\">\n",
       "      <th></th>\n",
       "      <th>meal_id</th>\n",
       "      <th>category</th>\n",
       "      <th>cuisine</th>\n",
       "    </tr>\n",
       "  </thead>\n",
       "  <tbody>\n",
       "    <tr>\n",
       "      <th>0</th>\n",
       "      <td>1885</td>\n",
       "      <td>Beverages</td>\n",
       "      <td>Thai</td>\n",
       "    </tr>\n",
       "    <tr>\n",
       "      <th>1</th>\n",
       "      <td>1993</td>\n",
       "      <td>Beverages</td>\n",
       "      <td>Thai</td>\n",
       "    </tr>\n",
       "    <tr>\n",
       "      <th>2</th>\n",
       "      <td>2539</td>\n",
       "      <td>Beverages</td>\n",
       "      <td>Thai</td>\n",
       "    </tr>\n",
       "    <tr>\n",
       "      <th>3</th>\n",
       "      <td>1248</td>\n",
       "      <td>Beverages</td>\n",
       "      <td>Indian</td>\n",
       "    </tr>\n",
       "    <tr>\n",
       "      <th>4</th>\n",
       "      <td>2631</td>\n",
       "      <td>Beverages</td>\n",
       "      <td>Indian</td>\n",
       "    </tr>\n",
       "  </tbody>\n",
       "</table>\n",
       "</div>"
      ],
      "text/plain": [
       "   meal_id   category cuisine\n",
       "0     1885  Beverages    Thai\n",
       "1     1993  Beverages    Thai\n",
       "2     2539  Beverages    Thai\n",
       "3     1248  Beverages  Indian\n",
       "4     2631  Beverages  Indian"
      ]
     },
     "execution_count": 2,
     "metadata": {},
     "output_type": "execute_result"
    }
   ],
   "source": [
    "meal_info=pd.read_csv('D:\\\\CAPSTONE PROJECT\\\\meal_info.csv')  # meal_info csv dataset\n",
    "meal_info.head()"
   ]
  },
  {
   "cell_type": "code",
   "execution_count": 3,
   "metadata": {},
   "outputs": [
    {
     "data": {
      "text/html": [
       "<div>\n",
       "<style scoped>\n",
       "    .dataframe tbody tr th:only-of-type {\n",
       "        vertical-align: middle;\n",
       "    }\n",
       "\n",
       "    .dataframe tbody tr th {\n",
       "        vertical-align: top;\n",
       "    }\n",
       "\n",
       "    .dataframe thead th {\n",
       "        text-align: right;\n",
       "    }\n",
       "</style>\n",
       "<table border=\"1\" class=\"dataframe\">\n",
       "  <thead>\n",
       "    <tr style=\"text-align: right;\">\n",
       "      <th></th>\n",
       "      <th>center_id</th>\n",
       "      <th>city_code</th>\n",
       "      <th>region_code</th>\n",
       "      <th>center_type</th>\n",
       "      <th>op_area</th>\n",
       "    </tr>\n",
       "  </thead>\n",
       "  <tbody>\n",
       "    <tr>\n",
       "      <th>0</th>\n",
       "      <td>11</td>\n",
       "      <td>679</td>\n",
       "      <td>56</td>\n",
       "      <td>TYPE_A</td>\n",
       "      <td>3.7</td>\n",
       "    </tr>\n",
       "    <tr>\n",
       "      <th>1</th>\n",
       "      <td>13</td>\n",
       "      <td>590</td>\n",
       "      <td>56</td>\n",
       "      <td>TYPE_B</td>\n",
       "      <td>6.7</td>\n",
       "    </tr>\n",
       "    <tr>\n",
       "      <th>2</th>\n",
       "      <td>124</td>\n",
       "      <td>590</td>\n",
       "      <td>56</td>\n",
       "      <td>TYPE_C</td>\n",
       "      <td>4.0</td>\n",
       "    </tr>\n",
       "    <tr>\n",
       "      <th>3</th>\n",
       "      <td>66</td>\n",
       "      <td>648</td>\n",
       "      <td>34</td>\n",
       "      <td>TYPE_A</td>\n",
       "      <td>4.1</td>\n",
       "    </tr>\n",
       "    <tr>\n",
       "      <th>4</th>\n",
       "      <td>94</td>\n",
       "      <td>632</td>\n",
       "      <td>34</td>\n",
       "      <td>TYPE_C</td>\n",
       "      <td>3.6</td>\n",
       "    </tr>\n",
       "  </tbody>\n",
       "</table>\n",
       "</div>"
      ],
      "text/plain": [
       "   center_id  city_code  region_code center_type  op_area\n",
       "0         11        679           56      TYPE_A      3.7\n",
       "1         13        590           56      TYPE_B      6.7\n",
       "2        124        590           56      TYPE_C      4.0\n",
       "3         66        648           34      TYPE_A      4.1\n",
       "4         94        632           34      TYPE_C      3.6"
      ]
     },
     "execution_count": 3,
     "metadata": {},
     "output_type": "execute_result"
    }
   ],
   "source": [
    "fulfilment_center_info=pd.read_csv('D:\\\\CAPSTONE PROJECT\\\\fulfilment_center_info.csv') # fulfilment_center_info csv dataset\n",
    "fulfilment_center_info.head()"
   ]
  },
  {
   "cell_type": "code",
   "execution_count": 4,
   "metadata": {},
   "outputs": [
    {
     "data": {
      "text/html": [
       "<div>\n",
       "<style scoped>\n",
       "    .dataframe tbody tr th:only-of-type {\n",
       "        vertical-align: middle;\n",
       "    }\n",
       "\n",
       "    .dataframe tbody tr th {\n",
       "        vertical-align: top;\n",
       "    }\n",
       "\n",
       "    .dataframe thead th {\n",
       "        text-align: right;\n",
       "    }\n",
       "</style>\n",
       "<table border=\"1\" class=\"dataframe\">\n",
       "  <thead>\n",
       "    <tr style=\"text-align: right;\">\n",
       "      <th></th>\n",
       "      <th>id</th>\n",
       "      <th>week</th>\n",
       "      <th>center_id</th>\n",
       "      <th>meal_id</th>\n",
       "      <th>checkout_price</th>\n",
       "      <th>base_price</th>\n",
       "      <th>emailer_for_promotion</th>\n",
       "      <th>homepage_featured</th>\n",
       "      <th>num_orders</th>\n",
       "    </tr>\n",
       "  </thead>\n",
       "  <tbody>\n",
       "    <tr>\n",
       "      <th>0</th>\n",
       "      <td>1379560</td>\n",
       "      <td>1</td>\n",
       "      <td>55</td>\n",
       "      <td>1885</td>\n",
       "      <td>136.83</td>\n",
       "      <td>152.29</td>\n",
       "      <td>0</td>\n",
       "      <td>0</td>\n",
       "      <td>177</td>\n",
       "    </tr>\n",
       "    <tr>\n",
       "      <th>1</th>\n",
       "      <td>1466964</td>\n",
       "      <td>1</td>\n",
       "      <td>55</td>\n",
       "      <td>1993</td>\n",
       "      <td>136.83</td>\n",
       "      <td>135.83</td>\n",
       "      <td>0</td>\n",
       "      <td>0</td>\n",
       "      <td>270</td>\n",
       "    </tr>\n",
       "    <tr>\n",
       "      <th>2</th>\n",
       "      <td>1346989</td>\n",
       "      <td>1</td>\n",
       "      <td>55</td>\n",
       "      <td>2539</td>\n",
       "      <td>134.86</td>\n",
       "      <td>135.86</td>\n",
       "      <td>0</td>\n",
       "      <td>0</td>\n",
       "      <td>189</td>\n",
       "    </tr>\n",
       "    <tr>\n",
       "      <th>3</th>\n",
       "      <td>1338232</td>\n",
       "      <td>1</td>\n",
       "      <td>55</td>\n",
       "      <td>2139</td>\n",
       "      <td>339.50</td>\n",
       "      <td>437.53</td>\n",
       "      <td>0</td>\n",
       "      <td>0</td>\n",
       "      <td>54</td>\n",
       "    </tr>\n",
       "    <tr>\n",
       "      <th>4</th>\n",
       "      <td>1448490</td>\n",
       "      <td>1</td>\n",
       "      <td>55</td>\n",
       "      <td>2631</td>\n",
       "      <td>243.50</td>\n",
       "      <td>242.50</td>\n",
       "      <td>0</td>\n",
       "      <td>0</td>\n",
       "      <td>40</td>\n",
       "    </tr>\n",
       "  </tbody>\n",
       "</table>\n",
       "</div>"
      ],
      "text/plain": [
       "        id  week  center_id  meal_id  checkout_price  base_price  \\\n",
       "0  1379560     1         55     1885          136.83      152.29   \n",
       "1  1466964     1         55     1993          136.83      135.83   \n",
       "2  1346989     1         55     2539          134.86      135.86   \n",
       "3  1338232     1         55     2139          339.50      437.53   \n",
       "4  1448490     1         55     2631          243.50      242.50   \n",
       "\n",
       "   emailer_for_promotion  homepage_featured  num_orders  \n",
       "0                      0                  0         177  \n",
       "1                      0                  0         270  \n",
       "2                      0                  0         189  \n",
       "3                      0                  0          54  \n",
       "4                      0                  0          40  "
      ]
     },
     "execution_count": 4,
     "metadata": {},
     "output_type": "execute_result"
    }
   ],
   "source": [
    "train=pd.read_csv('D:\\\\CAPSTONE PROJECT\\\\train.csv') # train csv dataset\n",
    "train.head()"
   ]
  },
  {
   "cell_type": "markdown",
   "metadata": {},
   "source": [
    "# Merging dataset"
   ]
  },
  {
   "cell_type": "code",
   "execution_count": 5,
   "metadata": {
    "scrolled": true
   },
   "outputs": [
    {
     "data": {
      "text/html": [
       "<div>\n",
       "<style scoped>\n",
       "    .dataframe tbody tr th:only-of-type {\n",
       "        vertical-align: middle;\n",
       "    }\n",
       "\n",
       "    .dataframe tbody tr th {\n",
       "        vertical-align: top;\n",
       "    }\n",
       "\n",
       "    .dataframe thead th {\n",
       "        text-align: right;\n",
       "    }\n",
       "</style>\n",
       "<table border=\"1\" class=\"dataframe\">\n",
       "  <thead>\n",
       "    <tr style=\"text-align: right;\">\n",
       "      <th></th>\n",
       "      <th>id</th>\n",
       "      <th>week</th>\n",
       "      <th>center_id</th>\n",
       "      <th>meal_id</th>\n",
       "      <th>checkout_price</th>\n",
       "      <th>base_price</th>\n",
       "      <th>emailer_for_promotion</th>\n",
       "      <th>homepage_featured</th>\n",
       "      <th>num_orders</th>\n",
       "      <th>city_code</th>\n",
       "      <th>region_code</th>\n",
       "      <th>center_type</th>\n",
       "      <th>op_area</th>\n",
       "      <th>category</th>\n",
       "      <th>cuisine</th>\n",
       "    </tr>\n",
       "  </thead>\n",
       "  <tbody>\n",
       "    <tr>\n",
       "      <th>0</th>\n",
       "      <td>1379560</td>\n",
       "      <td>1</td>\n",
       "      <td>55</td>\n",
       "      <td>1885</td>\n",
       "      <td>136.83</td>\n",
       "      <td>152.29</td>\n",
       "      <td>0</td>\n",
       "      <td>0</td>\n",
       "      <td>177</td>\n",
       "      <td>647</td>\n",
       "      <td>56</td>\n",
       "      <td>TYPE_C</td>\n",
       "      <td>2.0</td>\n",
       "      <td>Beverages</td>\n",
       "      <td>Thai</td>\n",
       "    </tr>\n",
       "    <tr>\n",
       "      <th>1</th>\n",
       "      <td>1018704</td>\n",
       "      <td>2</td>\n",
       "      <td>55</td>\n",
       "      <td>1885</td>\n",
       "      <td>135.83</td>\n",
       "      <td>152.29</td>\n",
       "      <td>0</td>\n",
       "      <td>0</td>\n",
       "      <td>323</td>\n",
       "      <td>647</td>\n",
       "      <td>56</td>\n",
       "      <td>TYPE_C</td>\n",
       "      <td>2.0</td>\n",
       "      <td>Beverages</td>\n",
       "      <td>Thai</td>\n",
       "    </tr>\n",
       "    <tr>\n",
       "      <th>2</th>\n",
       "      <td>1196273</td>\n",
       "      <td>3</td>\n",
       "      <td>55</td>\n",
       "      <td>1885</td>\n",
       "      <td>132.92</td>\n",
       "      <td>133.92</td>\n",
       "      <td>0</td>\n",
       "      <td>0</td>\n",
       "      <td>96</td>\n",
       "      <td>647</td>\n",
       "      <td>56</td>\n",
       "      <td>TYPE_C</td>\n",
       "      <td>2.0</td>\n",
       "      <td>Beverages</td>\n",
       "      <td>Thai</td>\n",
       "    </tr>\n",
       "    <tr>\n",
       "      <th>3</th>\n",
       "      <td>1116527</td>\n",
       "      <td>4</td>\n",
       "      <td>55</td>\n",
       "      <td>1885</td>\n",
       "      <td>135.86</td>\n",
       "      <td>134.86</td>\n",
       "      <td>0</td>\n",
       "      <td>0</td>\n",
       "      <td>163</td>\n",
       "      <td>647</td>\n",
       "      <td>56</td>\n",
       "      <td>TYPE_C</td>\n",
       "      <td>2.0</td>\n",
       "      <td>Beverages</td>\n",
       "      <td>Thai</td>\n",
       "    </tr>\n",
       "    <tr>\n",
       "      <th>4</th>\n",
       "      <td>1343872</td>\n",
       "      <td>5</td>\n",
       "      <td>55</td>\n",
       "      <td>1885</td>\n",
       "      <td>146.50</td>\n",
       "      <td>147.50</td>\n",
       "      <td>0</td>\n",
       "      <td>0</td>\n",
       "      <td>215</td>\n",
       "      <td>647</td>\n",
       "      <td>56</td>\n",
       "      <td>TYPE_C</td>\n",
       "      <td>2.0</td>\n",
       "      <td>Beverages</td>\n",
       "      <td>Thai</td>\n",
       "    </tr>\n",
       "  </tbody>\n",
       "</table>\n",
       "</div>"
      ],
      "text/plain": [
       "        id  week  center_id  meal_id  checkout_price  base_price  \\\n",
       "0  1379560     1         55     1885          136.83      152.29   \n",
       "1  1018704     2         55     1885          135.83      152.29   \n",
       "2  1196273     3         55     1885          132.92      133.92   \n",
       "3  1116527     4         55     1885          135.86      134.86   \n",
       "4  1343872     5         55     1885          146.50      147.50   \n",
       "\n",
       "   emailer_for_promotion  homepage_featured  num_orders  city_code  \\\n",
       "0                      0                  0         177        647   \n",
       "1                      0                  0         323        647   \n",
       "2                      0                  0          96        647   \n",
       "3                      0                  0         163        647   \n",
       "4                      0                  0         215        647   \n",
       "\n",
       "   region_code center_type  op_area   category cuisine  \n",
       "0           56      TYPE_C      2.0  Beverages    Thai  \n",
       "1           56      TYPE_C      2.0  Beverages    Thai  \n",
       "2           56      TYPE_C      2.0  Beverages    Thai  \n",
       "3           56      TYPE_C      2.0  Beverages    Thai  \n",
       "4           56      TYPE_C      2.0  Beverages    Thai  "
      ]
     },
     "execution_count": 5,
     "metadata": {},
     "output_type": "execute_result"
    }
   ],
   "source": [
    "train=train.merge(fulfilment_center_info,on='center_id') # merging train and fulfilment dataset on center_id ....How = inner join\n",
    "data=train.merge(meal_info,on='meal_id')# merging train dataset with meal_info on meal_id ... how = inner\n",
    "data.head() # complete dataset"
   ]
  },
  {
   "cell_type": "code",
   "execution_count": 7,
   "metadata": {},
   "outputs": [
    {
     "data": {
      "text/plain": [
       "23434.157890478582"
      ]
     },
     "execution_count": 7,
     "metadata": {},
     "output_type": "execute_result"
    }
   ],
   "source": [
    "data['checkout_price'].cov(data['base_price'])"
   ]
  },
  {
   "cell_type": "code",
   "execution_count": 70,
   "metadata": {},
   "outputs": [
    {
     "name": "stdout",
     "output_type": "stream",
     "text": [
      "<class 'pandas.core.frame.DataFrame'>\n",
      "Int64Index: 456548 entries, 0 to 456547\n",
      "Data columns (total 15 columns):\n",
      " #   Column                 Non-Null Count   Dtype  \n",
      "---  ------                 --------------   -----  \n",
      " 0   id                     456548 non-null  int64  \n",
      " 1   week                   456548 non-null  int64  \n",
      " 2   center_id              456548 non-null  int64  \n",
      " 3   meal_id                456548 non-null  int64  \n",
      " 4   checkout_price         456548 non-null  float64\n",
      " 5   base_price             456548 non-null  float64\n",
      " 6   emailer_for_promotion  456548 non-null  int64  \n",
      " 7   homepage_featured      456548 non-null  int64  \n",
      " 8   num_orders             456548 non-null  int64  \n",
      " 9   city_code              456548 non-null  int64  \n",
      " 10  region_code            456548 non-null  int64  \n",
      " 11  center_type            456548 non-null  object \n",
      " 12  op_area                456548 non-null  float64\n",
      " 13  category               456548 non-null  object \n",
      " 14  cuisine                456548 non-null  object \n",
      "dtypes: float64(3), int64(9), object(3)\n",
      "memory usage: 55.7+ MB\n"
     ]
    }
   ],
   "source": [
    "data.info() # checking info of our dataset"
   ]
  },
  {
   "cell_type": "code",
   "execution_count": 7,
   "metadata": {},
   "outputs": [
    {
     "data": {
      "text/plain": [
       "id                       456548\n",
       "week                        145\n",
       "center_id                    77\n",
       "meal_id                      51\n",
       "checkout_price             1992\n",
       "base_price                 1907\n",
       "emailer_for_promotion         2\n",
       "homepage_featured             2\n",
       "num_orders                 1250\n",
       "city_code                    51\n",
       "region_code                   8\n",
       "center_type                   3\n",
       "op_area                      30\n",
       "category                     14\n",
       "cuisine                       4\n",
       "dtype: int64"
      ]
     },
     "execution_count": 7,
     "metadata": {},
     "output_type": "execute_result"
    }
   ],
   "source": [
    "data.nunique() # checking the unique values of each features in our dataset here 0=index 1=columns"
   ]
  },
  {
   "cell_type": "code",
   "execution_count": 8,
   "metadata": {},
   "outputs": [
    {
     "name": "stdout",
     "output_type": "stream",
     "text": [
      "The number of rows are  456548\n",
      "\n",
      "The number of features are  15\n"
     ]
    }
   ],
   "source": [
    "data.shape # checking the number of rows and columns..\n",
    "print('The number of rows are ',data.shape[0])\n",
    "print('\\nThe number of features are ',data.shape[1])"
   ]
  },
  {
   "cell_type": "code",
   "execution_count": 9,
   "metadata": {},
   "outputs": [
    {
     "data": {
      "text/html": [
       "<div>\n",
       "<style scoped>\n",
       "    .dataframe tbody tr th:only-of-type {\n",
       "        vertical-align: middle;\n",
       "    }\n",
       "\n",
       "    .dataframe tbody tr th {\n",
       "        vertical-align: top;\n",
       "    }\n",
       "\n",
       "    .dataframe thead th {\n",
       "        text-align: right;\n",
       "    }\n",
       "</style>\n",
       "<table border=\"1\" class=\"dataframe\">\n",
       "  <thead>\n",
       "    <tr style=\"text-align: right;\">\n",
       "      <th></th>\n",
       "      <th>id</th>\n",
       "      <th>week</th>\n",
       "      <th>center_id</th>\n",
       "      <th>meal_id</th>\n",
       "      <th>checkout_price</th>\n",
       "      <th>base_price</th>\n",
       "      <th>emailer_for_promotion</th>\n",
       "      <th>homepage_featured</th>\n",
       "      <th>num_orders</th>\n",
       "      <th>city_code</th>\n",
       "      <th>region_code</th>\n",
       "      <th>op_area</th>\n",
       "    </tr>\n",
       "  </thead>\n",
       "  <tbody>\n",
       "    <tr>\n",
       "      <th>count</th>\n",
       "      <td>4.565480e+05</td>\n",
       "      <td>456548.000000</td>\n",
       "      <td>456548.000000</td>\n",
       "      <td>456548.000000</td>\n",
       "      <td>456548.000000</td>\n",
       "      <td>456548.000000</td>\n",
       "      <td>456548.000000</td>\n",
       "      <td>456548.00000</td>\n",
       "      <td>456548.000000</td>\n",
       "      <td>456548.000000</td>\n",
       "      <td>456548.000000</td>\n",
       "      <td>456548.000000</td>\n",
       "    </tr>\n",
       "    <tr>\n",
       "      <th>mean</th>\n",
       "      <td>1.250096e+06</td>\n",
       "      <td>74.768771</td>\n",
       "      <td>82.105796</td>\n",
       "      <td>2024.337458</td>\n",
       "      <td>332.238933</td>\n",
       "      <td>354.156627</td>\n",
       "      <td>0.081152</td>\n",
       "      <td>0.10920</td>\n",
       "      <td>261.872760</td>\n",
       "      <td>601.553399</td>\n",
       "      <td>56.614566</td>\n",
       "      <td>4.083590</td>\n",
       "    </tr>\n",
       "    <tr>\n",
       "      <th>std</th>\n",
       "      <td>1.443548e+05</td>\n",
       "      <td>41.524956</td>\n",
       "      <td>45.975046</td>\n",
       "      <td>547.420920</td>\n",
       "      <td>152.939723</td>\n",
       "      <td>160.715914</td>\n",
       "      <td>0.273069</td>\n",
       "      <td>0.31189</td>\n",
       "      <td>395.922798</td>\n",
       "      <td>66.195914</td>\n",
       "      <td>17.641306</td>\n",
       "      <td>1.091686</td>\n",
       "    </tr>\n",
       "    <tr>\n",
       "      <th>min</th>\n",
       "      <td>1.000000e+06</td>\n",
       "      <td>1.000000</td>\n",
       "      <td>10.000000</td>\n",
       "      <td>1062.000000</td>\n",
       "      <td>2.970000</td>\n",
       "      <td>55.350000</td>\n",
       "      <td>0.000000</td>\n",
       "      <td>0.00000</td>\n",
       "      <td>13.000000</td>\n",
       "      <td>456.000000</td>\n",
       "      <td>23.000000</td>\n",
       "      <td>0.900000</td>\n",
       "    </tr>\n",
       "    <tr>\n",
       "      <th>25%</th>\n",
       "      <td>1.124999e+06</td>\n",
       "      <td>39.000000</td>\n",
       "      <td>43.000000</td>\n",
       "      <td>1558.000000</td>\n",
       "      <td>228.950000</td>\n",
       "      <td>243.500000</td>\n",
       "      <td>0.000000</td>\n",
       "      <td>0.00000</td>\n",
       "      <td>54.000000</td>\n",
       "      <td>553.000000</td>\n",
       "      <td>34.000000</td>\n",
       "      <td>3.600000</td>\n",
       "    </tr>\n",
       "    <tr>\n",
       "      <th>50%</th>\n",
       "      <td>1.250184e+06</td>\n",
       "      <td>76.000000</td>\n",
       "      <td>76.000000</td>\n",
       "      <td>1993.000000</td>\n",
       "      <td>296.820000</td>\n",
       "      <td>310.460000</td>\n",
       "      <td>0.000000</td>\n",
       "      <td>0.00000</td>\n",
       "      <td>136.000000</td>\n",
       "      <td>596.000000</td>\n",
       "      <td>56.000000</td>\n",
       "      <td>4.000000</td>\n",
       "    </tr>\n",
       "    <tr>\n",
       "      <th>75%</th>\n",
       "      <td>1.375140e+06</td>\n",
       "      <td>111.000000</td>\n",
       "      <td>110.000000</td>\n",
       "      <td>2539.000000</td>\n",
       "      <td>445.230000</td>\n",
       "      <td>458.870000</td>\n",
       "      <td>0.000000</td>\n",
       "      <td>0.00000</td>\n",
       "      <td>324.000000</td>\n",
       "      <td>651.000000</td>\n",
       "      <td>77.000000</td>\n",
       "      <td>4.500000</td>\n",
       "    </tr>\n",
       "    <tr>\n",
       "      <th>max</th>\n",
       "      <td>1.499999e+06</td>\n",
       "      <td>145.000000</td>\n",
       "      <td>186.000000</td>\n",
       "      <td>2956.000000</td>\n",
       "      <td>866.270000</td>\n",
       "      <td>866.270000</td>\n",
       "      <td>1.000000</td>\n",
       "      <td>1.00000</td>\n",
       "      <td>24299.000000</td>\n",
       "      <td>713.000000</td>\n",
       "      <td>93.000000</td>\n",
       "      <td>7.000000</td>\n",
       "    </tr>\n",
       "  </tbody>\n",
       "</table>\n",
       "</div>"
      ],
      "text/plain": [
       "                 id           week      center_id        meal_id  \\\n",
       "count  4.565480e+05  456548.000000  456548.000000  456548.000000   \n",
       "mean   1.250096e+06      74.768771      82.105796    2024.337458   \n",
       "std    1.443548e+05      41.524956      45.975046     547.420920   \n",
       "min    1.000000e+06       1.000000      10.000000    1062.000000   \n",
       "25%    1.124999e+06      39.000000      43.000000    1558.000000   \n",
       "50%    1.250184e+06      76.000000      76.000000    1993.000000   \n",
       "75%    1.375140e+06     111.000000     110.000000    2539.000000   \n",
       "max    1.499999e+06     145.000000     186.000000    2956.000000   \n",
       "\n",
       "       checkout_price     base_price  emailer_for_promotion  \\\n",
       "count   456548.000000  456548.000000          456548.000000   \n",
       "mean       332.238933     354.156627               0.081152   \n",
       "std        152.939723     160.715914               0.273069   \n",
       "min          2.970000      55.350000               0.000000   \n",
       "25%        228.950000     243.500000               0.000000   \n",
       "50%        296.820000     310.460000               0.000000   \n",
       "75%        445.230000     458.870000               0.000000   \n",
       "max        866.270000     866.270000               1.000000   \n",
       "\n",
       "       homepage_featured     num_orders      city_code    region_code  \\\n",
       "count       456548.00000  456548.000000  456548.000000  456548.000000   \n",
       "mean             0.10920     261.872760     601.553399      56.614566   \n",
       "std              0.31189     395.922798      66.195914      17.641306   \n",
       "min              0.00000      13.000000     456.000000      23.000000   \n",
       "25%              0.00000      54.000000     553.000000      34.000000   \n",
       "50%              0.00000     136.000000     596.000000      56.000000   \n",
       "75%              0.00000     324.000000     651.000000      77.000000   \n",
       "max              1.00000   24299.000000     713.000000      93.000000   \n",
       "\n",
       "             op_area  \n",
       "count  456548.000000  \n",
       "mean        4.083590  \n",
       "std         1.091686  \n",
       "min         0.900000  \n",
       "25%         3.600000  \n",
       "50%         4.000000  \n",
       "75%         4.500000  \n",
       "max         7.000000  "
      ]
     },
     "execution_count": 9,
     "metadata": {},
     "output_type": "execute_result"
    }
   ],
   "source": [
    "data.describe() # The Five point summary of our dataset"
   ]
  },
  {
   "cell_type": "markdown",
   "metadata": {},
   "source": [
    "\n",
    "#  Checking Null values"
   ]
  },
  {
   "cell_type": "code",
   "execution_count": 10,
   "metadata": {},
   "outputs": [
    {
     "data": {
      "text/plain": [
       "id                       0\n",
       "week                     0\n",
       "center_id                0\n",
       "meal_id                  0\n",
       "checkout_price           0\n",
       "base_price               0\n",
       "emailer_for_promotion    0\n",
       "homepage_featured        0\n",
       "num_orders               0\n",
       "city_code                0\n",
       "region_code              0\n",
       "center_type              0\n",
       "op_area                  0\n",
       "category                 0\n",
       "cuisine                  0\n",
       "dtype: int64"
      ]
     },
     "execution_count": 10,
     "metadata": {},
     "output_type": "execute_result"
    }
   ],
   "source": [
    "data.isnull().sum() # checking null values in our dataset"
   ]
  },
  {
   "cell_type": "markdown",
   "metadata": {},
   "source": [
    "## checking correlation between features"
   ]
  },
  {
   "cell_type": "code",
   "execution_count": 11,
   "metadata": {},
   "outputs": [
    {
     "data": {
      "image/png": "[encoded data removed]",
      "text/plain": [
       "<Figure size 1080x720 with 2 Axes>"
      ]
     },
     "metadata": {
      "needs_background": "light"
     },
     "output_type": "display_data"
    }
   ],
   "source": [
    "plt.figure(figsize=(15,10)) # size of our Heatmap plot\n",
    "sns.heatmap(data.corr(),annot=True) # correlation plot using heatmap\n",
    "plt.show()"
   ]
  },
  {
   "cell_type": "markdown",
   "metadata": {},
   "source": [
    "##### checkout_price is highly correlated with base_price"
   ]
  },
  {
   "cell_type": "markdown",
   "metadata": {},
   "source": [
    "###  checking correlation using VIF (variance inflation factor) 1/(1-R2)"
   ]
  },
  {
   "cell_type": "code",
   "execution_count": 12,
   "metadata": {},
   "outputs": [],
   "source": [
    "num_data = data.select_dtypes(np.number) # taking only numerical data in new variable"
   ]
  },
  {
   "cell_type": "code",
   "execution_count": 13,
   "metadata": {},
   "outputs": [],
   "source": [
    "from statsmodels.stats.outliers_influence import variance_inflation_factor    # VIF can be found only for numerical data\n",
    "vif_data=pd.DataFrame()\n",
    "vif_data['vif']=[variance_inflation_factor(num_data.values,i) for i in range(len(num_data.columns))]\n",
    "vif_data['features']=num_data.columns"
   ]
  },
  {
   "cell_type": "code",
   "execution_count": 14,
   "metadata": {},
   "outputs": [
    {
     "data": {
      "text/html": [
       "<div>\n",
       "<style scoped>\n",
       "    .dataframe tbody tr th:only-of-type {\n",
       "        vertical-align: middle;\n",
       "    }\n",
       "\n",
       "    .dataframe tbody tr th {\n",
       "        vertical-align: top;\n",
       "    }\n",
       "\n",
       "    .dataframe thead th {\n",
       "        text-align: right;\n",
       "    }\n",
       "</style>\n",
       "<table border=\"1\" class=\"dataframe\">\n",
       "  <thead>\n",
       "    <tr style=\"text-align: right;\">\n",
       "      <th></th>\n",
       "      <th>vif</th>\n",
       "      <th>features</th>\n",
       "    </tr>\n",
       "  </thead>\n",
       "  <tbody>\n",
       "    <tr>\n",
       "      <th>5</th>\n",
       "      <td>96.787442</td>\n",
       "      <td>base_price</td>\n",
       "    </tr>\n",
       "    <tr>\n",
       "      <th>4</th>\n",
       "      <td>92.138183</td>\n",
       "      <td>checkout_price</td>\n",
       "    </tr>\n",
       "    <tr>\n",
       "      <th>9</th>\n",
       "      <td>54.773930</td>\n",
       "      <td>city_code</td>\n",
       "    </tr>\n",
       "    <tr>\n",
       "      <th>0</th>\n",
       "      <td>47.072657</td>\n",
       "      <td>id</td>\n",
       "    </tr>\n",
       "    <tr>\n",
       "      <th>11</th>\n",
       "      <td>15.594389</td>\n",
       "      <td>op_area</td>\n",
       "    </tr>\n",
       "    <tr>\n",
       "      <th>3</th>\n",
       "      <td>13.714651</td>\n",
       "      <td>meal_id</td>\n",
       "    </tr>\n",
       "    <tr>\n",
       "      <th>10</th>\n",
       "      <td>10.888187</td>\n",
       "      <td>region_code</td>\n",
       "    </tr>\n",
       "    <tr>\n",
       "      <th>2</th>\n",
       "      <td>4.227009</td>\n",
       "      <td>center_id</td>\n",
       "    </tr>\n",
       "    <tr>\n",
       "      <th>1</th>\n",
       "      <td>4.190665</td>\n",
       "      <td>week</td>\n",
       "    </tr>\n",
       "    <tr>\n",
       "      <th>8</th>\n",
       "      <td>1.857933</td>\n",
       "      <td>num_orders</td>\n",
       "    </tr>\n",
       "    <tr>\n",
       "      <th>6</th>\n",
       "      <td>1.740025</td>\n",
       "      <td>emailer_for_promotion</td>\n",
       "    </tr>\n",
       "    <tr>\n",
       "      <th>7</th>\n",
       "      <td>1.448141</td>\n",
       "      <td>homepage_featured</td>\n",
       "    </tr>\n",
       "  </tbody>\n",
       "</table>\n",
       "</div>"
      ],
      "text/plain": [
       "          vif               features\n",
       "5   96.787442             base_price\n",
       "4   92.138183         checkout_price\n",
       "9   54.773930              city_code\n",
       "0   47.072657                     id\n",
       "11  15.594389                op_area\n",
       "3   13.714651                meal_id\n",
       "10  10.888187            region_code\n",
       "2    4.227009              center_id\n",
       "1    4.190665                   week\n",
       "8    1.857933             num_orders\n",
       "6    1.740025  emailer_for_promotion\n",
       "7    1.448141      homepage_featured"
      ]
     },
     "execution_count": 14,
     "metadata": {},
     "output_type": "execute_result"
    }
   ],
   "source": [
    "vif_data.sort_values(by='vif',ascending=False) # sorting vif in decending orders"
   ]
  },
  {
   "cell_type": "markdown",
   "metadata": {},
   "source": [
    "#### vif beyond 10 is not good as it shows features are highly correlated with each other"
   ]
  },
  {
   "cell_type": "markdown",
   "metadata": {},
   "source": [
    "## understanding dataset in business perspective"
   ]
  },
  {
   "cell_type": "markdown",
   "metadata": {},
   "source": [
    "## i) Number of orders per week"
   ]
  },
  {
   "cell_type": "code",
   "execution_count": 15,
   "metadata": {},
   "outputs": [
    {
     "data": {
      "image/png": "[encoded data removed]",
      "text/plain": [
       "<Figure size 1080x360 with 1 Axes>"
      ]
     },
     "metadata": {
      "needs_background": "light"
     },
     "output_type": "display_data"
    }
   ],
   "source": [
    "week=data.groupby(['week'])['num_orders'].sum() # grouping week and suming num_orders \n",
    "week=pd.DataFrame(week)\n",
    "week=week.reset_index()\n",
    "\n",
    "\n",
    "## ploting of week V/S num_orders \n",
    "\n",
    "plt.figure(figsize=(15,5))\n",
    "sns.lineplot(x='week',y='num_orders',data=week)\n",
    "plt.title('Number of orders per week')\n",
    "plt.xlabel('weeks')\n",
    "plt.ylabel('Number of orders')\n",
    "plt.show()"
   ]
  },
  {
   "cell_type": "markdown",
   "metadata": {},
   "source": [
    "###### Highest orders recieved are approximately in 50th week.\n",
    "###### There was drastic drop in number of orders between 60 to 70 week"
   ]
  },
  {
   "cell_type": "markdown",
   "metadata": {},
   "source": [
    "## ii) Number of orders per center id"
   ]
  },
  {
   "cell_type": "code",
   "execution_count": 25,
   "metadata": {},
   "outputs": [
    {
     "data": {
      "image/png": "[encoded data removed]",
      "text/plain": [
       "<Figure size 2520x720 with 1 Axes>"
      ]
     },
     "metadata": {
      "needs_background": "light"
     },
     "output_type": "display_data"
    }
   ],
   "source": [
    "center=data.groupby(['center_id'])['num_orders'].sum() # grouping center id and suming num_orders \n",
    "center=pd.DataFrame(center)\n",
    "center=center.reset_index()\n",
    "\n",
    "\n",
    "## ploting center ID V/S num_orders\n",
    " \n",
    "plt.figure(figsize=(35,10))\n",
    "sns.barplot(x='center_id',y='num_orders',data=center)\n",
    "plt.title('Number of orders per center_id')\n",
    "plt.xlabel('center_id')\n",
    "plt.ylabel('num_orders')\n",
    "plt.show()"
   ]
  },
  {
   "cell_type": "markdown",
   "metadata": {},
   "source": [
    "##### Highest order was recieved from center id 13 and lowest were recieved from 41 and 91"
   ]
  },
  {
   "cell_type": "markdown",
   "metadata": {},
   "source": [
    "## iii) Number of orders based on cuisine and category"
   ]
  },
  {
   "cell_type": "code",
   "execution_count": 26,
   "metadata": {},
   "outputs": [
    {
     "data": {
      "image/png": "[encoded data removed]",
      "text/plain": [
       "<Figure size 2160x360 with 1 Axes>"
      ]
     },
     "metadata": {
      "needs_background": "light"
     },
     "output_type": "display_data"
    }
   ],
   "source": [
    "meal=data.groupby(['cuisine','category'])['num_orders'].sum() # grouping cuisine and category and suming num_orders\n",
    "meal=pd.DataFrame(meal)\n",
    "meal=meal.reset_index()\n",
    "meal['meals']=meal.apply(lambda x:x['cuisine']+','+x['category'],axis=1)\n",
    "meal\n",
    "\n",
    "## ploting meals V/S num_orders\n",
    "\n",
    "plt.figure(figsize=(30,5))\n",
    "sns.barplot(x='meals',y='num_orders',data=meal)\n",
    "plt.title('Number of orders per meals')\n",
    "plt.xlabel('meals')\n",
    "plt.ylabel('num_orders')\n",
    "plt.show()"
   ]
  },
  {
   "cell_type": "markdown",
   "metadata": {},
   "source": [
    "#### Indian (Rice Bowl), Italian (Beverages), italian (Sandwich), Thai (Beverages), Italian (salad) were among most preferred meals and Continental (Fish), Indian (Biryani), Thai (Soup) was least preferred meals."
   ]
  },
  {
   "cell_type": "markdown",
   "metadata": {},
   "source": [
    "1. Beverages from Italian and Thai are most preferred unlike from Indian and continental.\n",
    "2. Rice Bowl from India are in high demand.\n",
    "3. Italian Sandwich is also most preferred."
   ]
  },
  {
   "cell_type": "markdown",
   "metadata": {},
   "source": [
    "## iv) Number of orders per category"
   ]
  },
  {
   "cell_type": "code",
   "execution_count": 28,
   "metadata": {},
   "outputs": [
    {
     "data": {
      "image/png": "[encoded data removed]",
      "text/plain": [
       "<Figure size 1080x360 with 1 Axes>"
      ]
     },
     "metadata": {
      "needs_background": "light"
     },
     "output_type": "display_data"
    }
   ],
   "source": [
    "category=data.groupby(['category'])['num_orders'].sum() # grouping category and suming num_orders\n",
    "category=pd.DataFrame(category)\n",
    "category=category.reset_index()\n",
    "category\n",
    "\n",
    "# ploting category V/S num_orders\n",
    "\n",
    "plt.figure(figsize=(15,5))\n",
    "sns.barplot(x='category',y='num_orders',data=category)\n",
    "plt.title('Number of orders per category')\n",
    "plt.show()"
   ]
  },
  {
   "cell_type": "markdown",
   "metadata": {},
   "source": [
    "##### In categories Rice Bowl, Sandwich, Salad and Beverages were most preffered and Fish,Soup and Biryani were among least preffered."
   ]
  },
  {
   "cell_type": "markdown",
   "metadata": {},
   "source": [
    "## v) Number of orders based of cuisine"
   ]
  },
  {
   "cell_type": "code",
   "execution_count": 29,
   "metadata": {},
   "outputs": [
    {
     "data": {
      "image/png": "[encoded data removed]",
      "text/plain": [
       "<Figure size 1080x360 with 1 Axes>"
      ]
     },
     "metadata": {
      "needs_background": "light"
     },
     "output_type": "display_data"
    }
   ],
   "source": [
    "plt.figure(figsize=(15,5))   # ploting cuisine V/S num_orders\n",
    "sns.barplot(x='cuisine',y='num_orders',data=meal)\n",
    "plt.title('Number of orders per cuisine')\n",
    "plt.show()"
   ]
  },
  {
   "cell_type": "markdown",
   "metadata": {},
   "source": [
    "##### Most preferred is Italian followed by Thai, Indian and Continental."
   ]
  },
  {
   "cell_type": "markdown",
   "metadata": {},
   "source": [
    "## vi) Number of orders per center types"
   ]
  },
  {
   "cell_type": "code",
   "execution_count": 30,
   "metadata": {},
   "outputs": [
    {
     "data": {
      "image/png": "[encoded data removed]",
      "text/plain": [
       "<Figure size 720x360 with 1 Axes>"
      ]
     },
     "metadata": {
      "needs_background": "light"
     },
     "output_type": "display_data"
    }
   ],
   "source": [
    "type1=data.groupby(['center_type'])['num_orders'].sum() # grouping center_type V/S num_orders\n",
    "type1=pd.DataFrame(type1)\n",
    "type1=type1.reset_index()\n",
    "\n",
    "# ploting center type V/S num_orders\n",
    "\n",
    "plt.figure(figsize=(10,5))\n",
    "sns.barplot(x='center_type',y='num_orders',data=type1)\n",
    "plt.title('Number of orders per center type')\n",
    "plt.show()"
   ]
  },
  {
   "cell_type": "markdown",
   "metadata": {},
   "source": [
    "##### Recieved most orders from Type A center and least from Type C center"
   ]
  },
  {
   "cell_type": "markdown",
   "metadata": {},
   "source": [
    "## vii) number of orders based on center type and category"
   ]
  },
  {
   "cell_type": "code",
   "execution_count": 31,
   "metadata": {},
   "outputs": [
    {
     "data": {
      "image/png": "[encoded data removed]",
      "text/plain": [
       "<Figure size 1080x360 with 1 Axes>"
      ]
     },
     "metadata": {
      "needs_background": "light"
     },
     "output_type": "display_data"
    }
   ],
   "source": [
    "type2=data.groupby(['category','center_type'])['num_orders'].sum() # groupig category and center type suming num_orders\n",
    "type2=pd.DataFrame(type2)\n",
    "type2=type2.reset_index()\n",
    "\n",
    "## ploting center type V/S num_orders and comparing with category\n",
    "\n",
    "plt.figure(figsize=(15,5))\n",
    "sns.barplot(x='center_type',y='num_orders',hue='category',data=type2)\n",
    "plt.title('Number of orders per category in different center_type')\n",
    "plt.show()"
   ]
  },
  {
   "cell_type": "markdown",
   "metadata": {},
   "source": [
    "1. We can see most of the orders are from Type_A center in which Beverages has got huge demand and least preffered is Biryani and fish. \n",
    "2. In Type_B Beverages are ordered most and Biryani, Soup and fish are least ordered.\n",
    "3. In Type_C Beverages and Sandwich team are preferred and Biryani, Desert, Extras, Fish, Other Snacks, Seafood, Soup, Starters are least preferred"
   ]
  },
  {
   "cell_type": "code",
   "execution_count": 29,
   "metadata": {},
   "outputs": [
    {
     "data": {
      "image/png": "[encoded data removed]",
      "text/plain": [
       "<Figure size 1080x360 with 1 Axes>"
      ]
     },
     "metadata": {
      "needs_background": "light"
     },
     "output_type": "display_data"
    }
   ],
   "source": [
    "type3=data.groupby(['cuisine','center_type'])['num_orders'].sum() # grouping cuisine and center type and suming num_orders\n",
    "type3=pd.DataFrame(type3)\n",
    "type3=type3.reset_index()\n",
    "\n",
    "# ploting center type V/S num_orders comparing with cuisine\n",
    "\n",
    "plt.figure(figsize=(15,5))\n",
    "sns.barplot(x='center_type',y='num_orders',hue='cuisine',data=type3)\n",
    "plt.title('Number of orders per category in different center_type')\n",
    "plt.show()"
   ]
  },
  {
   "cell_type": "markdown",
   "metadata": {},
   "source": [
    "1. Italian in all Center_Types are most liked.\n",
    "2. Continental among least liked."
   ]
  },
  {
   "cell_type": "markdown",
   "metadata": {},
   "source": [
    "## checking Outliers "
   ]
  },
  {
   "cell_type": "code",
   "execution_count": 16,
   "metadata": {},
   "outputs": [
    {
     "data": {
      "text/html": [
       "<div>\n",
       "<style scoped>\n",
       "    .dataframe tbody tr th:only-of-type {\n",
       "        vertical-align: middle;\n",
       "    }\n",
       "\n",
       "    .dataframe tbody tr th {\n",
       "        vertical-align: top;\n",
       "    }\n",
       "\n",
       "    .dataframe thead th {\n",
       "        text-align: right;\n",
       "    }\n",
       "</style>\n",
       "<table border=\"1\" class=\"dataframe\">\n",
       "  <thead>\n",
       "    <tr style=\"text-align: right;\">\n",
       "      <th></th>\n",
       "      <th>variable</th>\n",
       "      <th>value</th>\n",
       "    </tr>\n",
       "  </thead>\n",
       "  <tbody>\n",
       "    <tr>\n",
       "      <th>0</th>\n",
       "      <td>id</td>\n",
       "      <td>1379560.0</td>\n",
       "    </tr>\n",
       "    <tr>\n",
       "      <th>1</th>\n",
       "      <td>id</td>\n",
       "      <td>1018704.0</td>\n",
       "    </tr>\n",
       "    <tr>\n",
       "      <th>2</th>\n",
       "      <td>id</td>\n",
       "      <td>1196273.0</td>\n",
       "    </tr>\n",
       "    <tr>\n",
       "      <th>3</th>\n",
       "      <td>id</td>\n",
       "      <td>1116527.0</td>\n",
       "    </tr>\n",
       "    <tr>\n",
       "      <th>4</th>\n",
       "      <td>id</td>\n",
       "      <td>1343872.0</td>\n",
       "    </tr>\n",
       "  </tbody>\n",
       "</table>\n",
       "</div>"
      ],
      "text/plain": [
       "  variable      value\n",
       "0       id  1379560.0\n",
       "1       id  1018704.0\n",
       "2       id  1196273.0\n",
       "3       id  1116527.0\n",
       "4       id  1343872.0"
      ]
     },
     "execution_count": 16,
     "metadata": {},
     "output_type": "execute_result"
    }
   ],
   "source": [
    "num_data=data.select_dtypes(np.number)  # as outliers can only be in numerical data\n",
    "num_data=num_data.drop('num_orders',axis=1)\n",
    "num_col=num_data.columns\n",
    "\n",
    "# The melt function takes data in wide format and stacks a set of columns into a single column of data.\n",
    "melt=pd.melt(data,value_vars=num_col)\n",
    "melt.head()"
   ]
  },
  {
   "cell_type": "code",
   "execution_count": 17,
   "metadata": {},
   "outputs": [
    {
     "data": {
      "text/plain": [
       "<Figure size 1080x1080 with 0 Axes>"
      ]
     },
     "metadata": {},
     "output_type": "display_data"
    },
    {
     "data": {
      "image/png": "[encoded data removed]",
      "text/plain": [
       "<Figure size 1080x648 with 11 Axes>"
      ]
     },
     "metadata": {
      "needs_background": "light"
     },
     "output_type": "display_data"
    }
   ],
   "source": [
    "plt.figure(figsize=(15,15))\n",
    "grid=sns.FacetGrid(melt,col='variable',col_wrap=5,sharex=False,sharey=False)\n",
    "grid=grid.map(sns.boxplot,'value')\n"
   ]
  },
  {
   "cell_type": "markdown",
   "metadata": {},
   "source": [
    "#### op_area,base_price,checkout_price has outliers"
   ]
  },
  {
   "cell_type": "markdown",
   "metadata": {},
   "source": [
    "## Treating Outliers"
   ]
  },
  {
   "cell_type": "markdown",
   "metadata": {},
   "source": [
    "## a) IQR method for base price"
   ]
  },
  {
   "cell_type": "code",
   "execution_count": 71,
   "metadata": {},
   "outputs": [
    {
     "data": {
      "text/plain": [
       "456540"
      ]
     },
     "execution_count": 71,
     "metadata": {},
     "output_type": "execute_result"
    }
   ],
   "source": [
    "Q1=data['base_price'].quantile(0.25)\n",
    "Q3=data['base_price'].quantile(0.75)\n",
    "IQR=Q3-Q1\n",
    "lower=Q1-(IQR*1.5)\n",
    "upper=Q3+(IQR*1.5)\n",
    "data=data[(data['base_price']>lower) & (data['base_price']<upper)]\n",
    "len(data) # deleted 8 rows after using outliers \n"
   ]
  },
  {
   "cell_type": "code",
   "execution_count": 72,
   "metadata": {},
   "outputs": [
    {
     "data": {
      "image/png": "[encoded data removed]",
      "text/plain": [
       "<Figure size 432x288 with 1 Axes>"
      ]
     },
     "metadata": {
      "needs_background": "light"
     },
     "output_type": "display_data"
    }
   ],
   "source": [
    "sns.boxplot(data['base_price'])\n",
    "plt.show()"
   ]
  },
  {
   "cell_type": "markdown",
   "metadata": {},
   "source": [
    "## b) IQR method for checkout price"
   ]
  },
  {
   "cell_type": "code",
   "execution_count": 73,
   "metadata": {},
   "outputs": [
    {
     "data": {
      "text/plain": [
       "456540"
      ]
     },
     "execution_count": 73,
     "metadata": {},
     "output_type": "execute_result"
    }
   ],
   "source": [
    "Q1=data['checkout_price'].quantile(0.25)\n",
    "Q3=data['checkout_price'].quantile(0.75)\n",
    "IQR=Q3-Q1\n",
    "lower=Q1-IQR*1.5\n",
    "upper=Q3+IQR*1.5\n",
    "data=data[(data['checkout_price']>lower) & (data['checkout_price']<upper)]\n",
    "len(data) "
   ]
  },
  {
   "cell_type": "code",
   "execution_count": 74,
   "metadata": {},
   "outputs": [
    {
     "data": {
      "image/png": "[encoded data removed]",
      "text/plain": [
       "<Figure size 432x288 with 1 Axes>"
      ]
     },
     "metadata": {
      "needs_background": "light"
     },
     "output_type": "display_data"
    }
   ],
   "source": [
    "sns.boxplot(data['checkout_price'])\n",
    "plt.show()"
   ]
  },
  {
   "cell_type": "markdown",
   "metadata": {},
   "source": [
    "## c) operational area - Flooring and Capping method to treat outliers"
   ]
  },
  {
   "cell_type": "code",
   "execution_count": 75,
   "metadata": {},
   "outputs": [
    {
     "name": "stdout",
     "output_type": "stream",
     "text": [
      "2.25\n",
      "5.85\n"
     ]
    }
   ],
   "source": [
    "Q1=data['op_area'].quantile(0.25) \n",
    "Q3=data['op_area'].quantile(0.75)\n",
    "IQR=Q3-Q1\n",
    "lower=Q1-IQR*1.5\n",
    "upper=Q3+IQR*1.5\n",
    "print(lower)\n",
    "print(upper)"
   ]
  },
  {
   "cell_type": "markdown",
   "metadata": {},
   "source": [
    "#### we cant afford to delete too many rows so by using Capping method we will treat outliers"
   ]
  },
  {
   "cell_type": "code",
   "execution_count": 76,
   "metadata": {},
   "outputs": [],
   "source": [
    "data['op_area'] = np.where(data['op_area']<lower,lower,data['op_area'])\n",
    "data['op_area'] = np.where(data['op_area']>upper,upper,data['op_area'])"
   ]
  },
  {
   "cell_type": "code",
   "execution_count": 77,
   "metadata": {},
   "outputs": [
    {
     "data": {
      "image/png": "[encoded data removed]",
      "text/plain": [
       "<Figure size 432x288 with 1 Axes>"
      ]
     },
     "metadata": {
      "needs_background": "light"
     },
     "output_type": "display_data"
    }
   ],
   "source": [
    "sns.boxplot(data['op_area'])\n",
    "plt.show()"
   ]
  },
  {
   "cell_type": "markdown",
   "metadata": {},
   "source": [
    "## After treating outliers"
   ]
  },
  {
   "cell_type": "code",
   "execution_count": 25,
   "metadata": {},
   "outputs": [
    {
     "data": {
      "text/html": [
       "<div>\n",
       "<style scoped>\n",
       "    .dataframe tbody tr th:only-of-type {\n",
       "        vertical-align: middle;\n",
       "    }\n",
       "\n",
       "    .dataframe tbody tr th {\n",
       "        vertical-align: top;\n",
       "    }\n",
       "\n",
       "    .dataframe thead th {\n",
       "        text-align: right;\n",
       "    }\n",
       "</style>\n",
       "<table border=\"1\" class=\"dataframe\">\n",
       "  <thead>\n",
       "    <tr style=\"text-align: right;\">\n",
       "      <th></th>\n",
       "      <th>variable</th>\n",
       "      <th>value</th>\n",
       "    </tr>\n",
       "  </thead>\n",
       "  <tbody>\n",
       "    <tr>\n",
       "      <th>0</th>\n",
       "      <td>id</td>\n",
       "      <td>1379560.0</td>\n",
       "    </tr>\n",
       "    <tr>\n",
       "      <th>1</th>\n",
       "      <td>id</td>\n",
       "      <td>1018704.0</td>\n",
       "    </tr>\n",
       "    <tr>\n",
       "      <th>2</th>\n",
       "      <td>id</td>\n",
       "      <td>1196273.0</td>\n",
       "    </tr>\n",
       "    <tr>\n",
       "      <th>3</th>\n",
       "      <td>id</td>\n",
       "      <td>1116527.0</td>\n",
       "    </tr>\n",
       "    <tr>\n",
       "      <th>4</th>\n",
       "      <td>id</td>\n",
       "      <td>1343872.0</td>\n",
       "    </tr>\n",
       "  </tbody>\n",
       "</table>\n",
       "</div>"
      ],
      "text/plain": [
       "  variable      value\n",
       "0       id  1379560.0\n",
       "1       id  1018704.0\n",
       "2       id  1196273.0\n",
       "3       id  1116527.0\n",
       "4       id  1343872.0"
      ]
     },
     "execution_count": 25,
     "metadata": {},
     "output_type": "execute_result"
    }
   ],
   "source": [
    "num_data=data.select_dtypes(np.number)  \n",
    "num_data=num_data.drop('num_orders',axis=1)\n",
    "num_col=num_data.columns\n",
    "melt=pd.melt(data,value_vars=num_col)\n",
    "melt.head()"
   ]
  },
  {
   "cell_type": "code",
   "execution_count": 26,
   "metadata": {},
   "outputs": [
    {
     "data": {
      "text/plain": [
       "<Figure size 1080x1080 with 0 Axes>"
      ]
     },
     "metadata": {},
     "output_type": "display_data"
    },
    {
     "data": {
      "image/png": "[encoded data removed]",
      "text/plain": [
       "<Figure size 1080x648 with 11 Axes>"
      ]
     },
     "metadata": {
      "needs_background": "light"
     },
     "output_type": "display_data"
    }
   ],
   "source": [
    "plt.figure(figsize=(15,15))\n",
    "grid=sns.FacetGrid(melt,col='variable',col_wrap=5,sharex=False,sharey=False)\n",
    "grid=grid.map(sns.boxplot,'value')\n"
   ]
  },
  {
   "cell_type": "markdown",
   "metadata": {},
   "source": [
    "#### After outlier treatment there is no outliers"
   ]
  },
  {
   "cell_type": "markdown",
   "metadata": {},
   "source": [
    "## statistical test"
   ]
  },
  {
   "cell_type": "markdown",
   "metadata": {},
   "source": [
    "#### shapiro test"
   ]
  },
  {
   "cell_type": "code",
   "execution_count": 66,
   "metadata": {},
   "outputs": [],
   "source": [
    "num_data=X.select_dtypes(np.number)"
   ]
  },
  {
   "cell_type": "code",
   "execution_count": 20,
   "metadata": {},
   "outputs": [
    {
     "name": "stdout",
     "output_type": "stream",
     "text": [
      "id \t 0.0\n",
      "week \t 0.0\n",
      "center_id \t 0.0\n",
      "meal_id \t 0.0\n",
      "checkout_price \t 0.0\n",
      "base_price \t 0.0\n",
      "emailer_for_promotion \t 0.0\n",
      "homepage_featured \t 0.0\n",
      "city_code \t 0.0\n",
      "region_code \t 0.0\n",
      "op_area \t 0.0\n"
     ]
    }
   ],
   "source": [
    "from scipy.stats import shapiro\n",
    "for i in num_data.columns:\n",
    "    print(i,'\\t',shapiro(num_data[i])[1])"
   ]
  },
  {
   "cell_type": "markdown",
   "metadata": {},
   "source": [
    "As we can see data is not normal"
   ]
  },
  {
   "cell_type": "markdown",
   "metadata": {},
   "source": [
    "#### Chi2 test for independence"
   ]
  },
  {
   "cell_type": "code",
   "execution_count": 21,
   "metadata": {},
   "outputs": [
    {
     "name": "stdout",
     "output_type": "stream",
     "text": [
      "(984736.6954530542, 0.0, 39, array([[28793.59843606, 31545.86384545, 34434.83210672, 33115.70561178],\n",
      "       [ 4641.10749989,  5084.73248346,  5550.39197004,  5337.76804661],\n",
      "       [ 6595.35282341,  7225.77633504,  7887.51248521,  7585.35835633],\n",
      "       [ 3053.39574627,  3345.25768607,  3651.61617821,  3511.73038945],\n",
      "       [ 2293.53653349,  2512.76655715,  2742.88556315,  2637.81134621],\n",
      "       [ 6614.4900184 ,  7246.74277829,  7910.39903404,  7607.36816927],\n",
      "       [ 6235.12327069,  6831.11387392,  7456.7068603 ,  7171.05599509],\n",
      "       [ 7460.80432383,  8173.95289788,  8922.52299908,  8580.71977921],\n",
      "       [ 7521.59306085,  8240.5521882 ,  8995.22144828,  8650.63330267],\n",
      "       [ 6429.87237263,  7044.47826696,  7689.61115127,  7395.03820914],\n",
      "       [ 7495.25127481,  8211.69249573,  8963.71878696,  8620.3374425 ],\n",
      "       [ 6058.16050291,  6637.2359399 ,  7245.07359706,  6967.52996013],\n",
      "       [ 2853.69348797,  3126.46668419,  3412.7883099 ,  3282.05151794],\n",
      "       [ 6741.02064879,  7385.36796776,  8061.71950979,  7752.89187366]]))\n"
     ]
    }
   ],
   "source": [
    "## HO= features are independent(category, cuisine)\n",
    "## H1= features are dependent\n",
    "alpha=0.05\n",
    "cat_cuis=pd.crosstab(data['category'],data['cuisine'])\n",
    "import scipy.stats as st\n",
    "print(st.chi2_contingency(cat_cuis))\n",
    "# here as p_value(0.00) < alpha(0.05)\n",
    "# we reject H0, that is features are dependent on each other"
   ]
  },
  {
   "cell_type": "code",
   "execution_count": 22,
   "metadata": {},
   "outputs": [
    {
     "name": "stdout",
     "output_type": "stream",
     "text": [
      "(3363.444533811768, 0.0, 26, array([[73638.29668813, 11869.41784291, 16867.30990056,  7808.91844307,\n",
      "         5865.61363955, 16916.2523919 , 15946.03947518, 19080.66209752,\n",
      "        19236.1264818 , 16444.1012989 , 19168.75858194, 15493.46537872,\n",
      "         7298.18915101, 17239.84862882],\n",
      "       [26352.83624655,  4247.69228545,  6036.2810619 ,  2794.56693389,\n",
      "         2099.11910895,  6053.79604416,  5706.58727822,  6828.37037718,\n",
      "         6884.00620318,  5884.82798002,  6859.89734525,  5544.62520699,\n",
      "         2611.79294257,  6169.60098567],\n",
      "       [27898.86706532,  4496.88987164,  6390.40903754,  2958.51462303,\n",
      "         2222.2672515 ,  6408.95156394,  6041.37324659,  7228.9675253 ,\n",
      "         7287.86731502,  6230.07072108,  7262.34407281,  5869.90941429,\n",
      "         2765.01790643,  6531.55038551]]))\n"
     ]
    }
   ],
   "source": [
    "# H0: features are independent(center_type,category)\n",
    "# H1: features are dependent \n",
    "type_cat=pd.crosstab(data['center_type'],data['category'])\n",
    "print(st.chi2_contingency(type_cat))\n",
    "# here we reject H0 as p_value(0.0)<alpha(0.05)"
   ]
  },
  {
   "cell_type": "markdown",
   "metadata": {},
   "source": [
    "#### As our data is not normal we cannot use ANOVA so we will use non Parametric test"
   ]
  },
  {
   "cell_type": "code",
   "execution_count": null,
   "metadata": {},
   "outputs": [],
   "source": []
  },
  {
   "cell_type": "code",
   "execution_count": null,
   "metadata": {},
   "outputs": [],
   "source": []
  },
  {
   "cell_type": "markdown",
   "metadata": {},
   "source": [
    "## Encoding categorical dataset in numerical"
   ]
  },
  {
   "cell_type": "code",
   "execution_count": 78,
   "metadata": {},
   "outputs": [],
   "source": [
    "num_data=data.select_dtypes(np.number)\n",
    "cat_data=data.select_dtypes('object')\n",
    "#cat_data=pd.get_dummies(cat_data)\n",
    "#data=pd.concat([num_data,cat_data],axis=1)\n",
    "#data.head()"
   ]
  },
  {
   "cell_type": "code",
   "execution_count": 79,
   "metadata": {},
   "outputs": [],
   "source": [
    "cat_data=cat_data.drop('center_type',axis=1)\n",
    "cent=pd.DataFrame(data['center_type'])"
   ]
  },
  {
   "cell_type": "code",
   "execution_count": 80,
   "metadata": {},
   "outputs": [],
   "source": [
    "cat_data=pd.get_dummies(cat_data)"
   ]
  },
  {
   "cell_type": "code",
   "execution_count": 81,
   "metadata": {},
   "outputs": [],
   "source": [
    "from sklearn.preprocessing import LabelEncoder\n",
    "LE=LabelEncoder()\n",
    "cent['center_type']=LE.fit_transform(cent['center_type'])"
   ]
  },
  {
   "cell_type": "code",
   "execution_count": 82,
   "metadata": {},
   "outputs": [],
   "source": [
    "data1=pd.concat([num_data,cat_data,cent],axis=1)"
   ]
  },
  {
   "cell_type": "code",
   "execution_count": 83,
   "metadata": {},
   "outputs": [],
   "source": [
    "data=data1"
   ]
  },
  {
   "cell_type": "code",
   "execution_count": 20,
   "metadata": {},
   "outputs": [
    {
     "data": {
      "text/html": [
       "<div>\n",
       "<style scoped>\n",
       "    .dataframe tbody tr th:only-of-type {\n",
       "        vertical-align: middle;\n",
       "    }\n",
       "\n",
       "    .dataframe tbody tr th {\n",
       "        vertical-align: top;\n",
       "    }\n",
       "\n",
       "    .dataframe thead th {\n",
       "        text-align: right;\n",
       "    }\n",
       "</style>\n",
       "<table border=\"1\" class=\"dataframe\">\n",
       "  <thead>\n",
       "    <tr style=\"text-align: right;\">\n",
       "      <th></th>\n",
       "      <th>id</th>\n",
       "      <th>week</th>\n",
       "      <th>center_id</th>\n",
       "      <th>meal_id</th>\n",
       "      <th>checkout_price</th>\n",
       "      <th>base_price</th>\n",
       "      <th>emailer_for_promotion</th>\n",
       "      <th>homepage_featured</th>\n",
       "      <th>num_orders</th>\n",
       "      <th>city_code</th>\n",
       "      <th>...</th>\n",
       "      <th>category_Salad</th>\n",
       "      <th>category_Sandwich</th>\n",
       "      <th>category_Seafood</th>\n",
       "      <th>category_Soup</th>\n",
       "      <th>category_Starters</th>\n",
       "      <th>cuisine_Continental</th>\n",
       "      <th>cuisine_Indian</th>\n",
       "      <th>cuisine_Italian</th>\n",
       "      <th>cuisine_Thai</th>\n",
       "      <th>center_type</th>\n",
       "    </tr>\n",
       "  </thead>\n",
       "  <tbody>\n",
       "    <tr>\n",
       "      <th>0</th>\n",
       "      <td>1379560</td>\n",
       "      <td>1</td>\n",
       "      <td>55</td>\n",
       "      <td>1885</td>\n",
       "      <td>136.83</td>\n",
       "      <td>152.29</td>\n",
       "      <td>0</td>\n",
       "      <td>0</td>\n",
       "      <td>177</td>\n",
       "      <td>647</td>\n",
       "      <td>...</td>\n",
       "      <td>0</td>\n",
       "      <td>0</td>\n",
       "      <td>0</td>\n",
       "      <td>0</td>\n",
       "      <td>0</td>\n",
       "      <td>0</td>\n",
       "      <td>0</td>\n",
       "      <td>0</td>\n",
       "      <td>1</td>\n",
       "      <td>2</td>\n",
       "    </tr>\n",
       "    <tr>\n",
       "      <th>1</th>\n",
       "      <td>1018704</td>\n",
       "      <td>2</td>\n",
       "      <td>55</td>\n",
       "      <td>1885</td>\n",
       "      <td>135.83</td>\n",
       "      <td>152.29</td>\n",
       "      <td>0</td>\n",
       "      <td>0</td>\n",
       "      <td>323</td>\n",
       "      <td>647</td>\n",
       "      <td>...</td>\n",
       "      <td>0</td>\n",
       "      <td>0</td>\n",
       "      <td>0</td>\n",
       "      <td>0</td>\n",
       "      <td>0</td>\n",
       "      <td>0</td>\n",
       "      <td>0</td>\n",
       "      <td>0</td>\n",
       "      <td>1</td>\n",
       "      <td>2</td>\n",
       "    </tr>\n",
       "    <tr>\n",
       "      <th>2</th>\n",
       "      <td>1196273</td>\n",
       "      <td>3</td>\n",
       "      <td>55</td>\n",
       "      <td>1885</td>\n",
       "      <td>132.92</td>\n",
       "      <td>133.92</td>\n",
       "      <td>0</td>\n",
       "      <td>0</td>\n",
       "      <td>96</td>\n",
       "      <td>647</td>\n",
       "      <td>...</td>\n",
       "      <td>0</td>\n",
       "      <td>0</td>\n",
       "      <td>0</td>\n",
       "      <td>0</td>\n",
       "      <td>0</td>\n",
       "      <td>0</td>\n",
       "      <td>0</td>\n",
       "      <td>0</td>\n",
       "      <td>1</td>\n",
       "      <td>2</td>\n",
       "    </tr>\n",
       "    <tr>\n",
       "      <th>3</th>\n",
       "      <td>1116527</td>\n",
       "      <td>4</td>\n",
       "      <td>55</td>\n",
       "      <td>1885</td>\n",
       "      <td>135.86</td>\n",
       "      <td>134.86</td>\n",
       "      <td>0</td>\n",
       "      <td>0</td>\n",
       "      <td>163</td>\n",
       "      <td>647</td>\n",
       "      <td>...</td>\n",
       "      <td>0</td>\n",
       "      <td>0</td>\n",
       "      <td>0</td>\n",
       "      <td>0</td>\n",
       "      <td>0</td>\n",
       "      <td>0</td>\n",
       "      <td>0</td>\n",
       "      <td>0</td>\n",
       "      <td>1</td>\n",
       "      <td>2</td>\n",
       "    </tr>\n",
       "    <tr>\n",
       "      <th>4</th>\n",
       "      <td>1343872</td>\n",
       "      <td>5</td>\n",
       "      <td>55</td>\n",
       "      <td>1885</td>\n",
       "      <td>146.50</td>\n",
       "      <td>147.50</td>\n",
       "      <td>0</td>\n",
       "      <td>0</td>\n",
       "      <td>215</td>\n",
       "      <td>647</td>\n",
       "      <td>...</td>\n",
       "      <td>0</td>\n",
       "      <td>0</td>\n",
       "      <td>0</td>\n",
       "      <td>0</td>\n",
       "      <td>0</td>\n",
       "      <td>0</td>\n",
       "      <td>0</td>\n",
       "      <td>0</td>\n",
       "      <td>1</td>\n",
       "      <td>2</td>\n",
       "    </tr>\n",
       "  </tbody>\n",
       "</table>\n",
       "<p>5 rows × 31 columns</p>\n",
       "</div>"
      ],
      "text/plain": [
       "        id  week  center_id  meal_id  checkout_price  base_price  \\\n",
       "0  1379560     1         55     1885          136.83      152.29   \n",
       "1  1018704     2         55     1885          135.83      152.29   \n",
       "2  1196273     3         55     1885          132.92      133.92   \n",
       "3  1116527     4         55     1885          135.86      134.86   \n",
       "4  1343872     5         55     1885          146.50      147.50   \n",
       "\n",
       "   emailer_for_promotion  homepage_featured  num_orders  city_code  ...  \\\n",
       "0                      0                  0         177        647  ...   \n",
       "1                      0                  0         323        647  ...   \n",
       "2                      0                  0          96        647  ...   \n",
       "3                      0                  0         163        647  ...   \n",
       "4                      0                  0         215        647  ...   \n",
       "\n",
       "   category_Salad  category_Sandwich  category_Seafood  category_Soup  \\\n",
       "0               0                  0                 0              0   \n",
       "1               0                  0                 0              0   \n",
       "2               0                  0                 0              0   \n",
       "3               0                  0                 0              0   \n",
       "4               0                  0                 0              0   \n",
       "\n",
       "   category_Starters  cuisine_Continental  cuisine_Indian  cuisine_Italian  \\\n",
       "0                  0                    0               0                0   \n",
       "1                  0                    0               0                0   \n",
       "2                  0                    0               0                0   \n",
       "3                  0                    0               0                0   \n",
       "4                  0                    0               0                0   \n",
       "\n",
       "   cuisine_Thai  center_type  \n",
       "0             1            2  \n",
       "1             1            2  \n",
       "2             1            2  \n",
       "3             1            2  \n",
       "4             1            2  \n",
       "\n",
       "[5 rows x 31 columns]"
      ]
     },
     "execution_count": 20,
     "metadata": {},
     "output_type": "execute_result"
    }
   ],
   "source": [
    "data.head()"
   ]
  },
  {
   "cell_type": "markdown",
   "metadata": {},
   "source": [
    "## Checking distribution"
   ]
  },
  {
   "cell_type": "code",
   "execution_count": 34,
   "metadata": {},
   "outputs": [
    {
     "data": {
      "text/plain": [
       "<Figure size 1080x1080 with 0 Axes>"
      ]
     },
     "metadata": {},
     "output_type": "display_data"
    },
    {
     "data": {
      "image/png": "[encoded data removed]",
      "text/plain": [
       "<Figure size 1080x648 with 11 Axes>"
      ]
     },
     "metadata": {
      "needs_background": "light"
     },
     "output_type": "display_data"
    }
   ],
   "source": [
    "plt.figure(figsize=(15,15))\n",
    "grid=sns.FacetGrid(melt,col='variable',col_wrap=5,sharex=False,sharey=False)\n",
    "grid=grid.map(sns.distplot,'value')\n",
    "plt.show()"
   ]
  },
  {
   "cell_type": "markdown",
   "metadata": {},
   "source": [
    "## 1)"
   ]
  },
  {
   "cell_type": "markdown",
   "metadata": {},
   "source": [
    "## train test split"
   ]
  },
  {
   "cell_type": "code",
   "execution_count": 84,
   "metadata": {},
   "outputs": [],
   "source": [
    "X = data.drop('num_orders',axis=1) # Independent data\n",
    "y = data['num_orders']             # dependent data"
   ]
  },
  {
   "cell_type": "code",
   "execution_count": 85,
   "metadata": {},
   "outputs": [],
   "source": [
    "from sklearn.model_selection import train_test_split\n",
    "\n",
    "X_train,X_test,y_train,y_test = train_test_split(X,y,test_size=0.3,random_state = 1)\n"
   ]
  },
  {
   "cell_type": "code",
   "execution_count": 86,
   "metadata": {},
   "outputs": [
    {
     "data": {
      "text/plain": [
       "F_onewayResult(statistic=0.20266604482491696, pvalue=0.8165509239962134)"
      ]
     },
     "execution_count": 86,
     "metadata": {},
     "output_type": "execute_result"
    }
   ],
   "source": [
    "# H0: Both train test represents data\n",
    "# H1: Both train test does not represents data\n",
    "stats.f_oneway(y_train,y_test,y)\n",
    "# as p_value > alpha we accept H0. i.e. both train test represents data"
   ]
  },
  {
   "cell_type": "markdown",
   "metadata": {},
   "source": [
    "## scaling dataset"
   ]
  },
  {
   "cell_type": "code",
   "execution_count": 23,
   "metadata": {},
   "outputs": [],
   "source": [
    "from sklearn.preprocessing import StandardScaler\n",
    "SC=StandardScaler()\n",
    "X_train = SC.fit_transform(X_train)\n",
    "X_test = SC.transform(X_test)"
   ]
  },
  {
   "cell_type": "code",
   "execution_count": 24,
   "metadata": {},
   "outputs": [],
   "source": [
    "X_train=pd.DataFrame(X_train,columns=X.columns)\n",
    "X_test=pd.DataFrame(X_test,columns=X.columns)"
   ]
  },
  {
   "cell_type": "markdown",
   "metadata": {},
   "source": [
    "# Power transformation"
   ]
  },
  {
   "cell_type": "code",
   "execution_count": 25,
   "metadata": {},
   "outputs": [],
   "source": [
    "from sklearn.preprocessing import PowerTransformer\n",
    "P=PowerTransformer()\n",
    "X_train=P.fit_transform(X_train)\n",
    "X_test=P.transform(X_test)"
   ]
  },
  {
   "cell_type": "code",
   "execution_count": 26,
   "metadata": {},
   "outputs": [],
   "source": [
    "X_train=pd.DataFrame(X_train,columns=X.columns)\n",
    "X_test=pd.DataFrame(X_test,columns=X.columns)\n",
    "#y_train=y_train.reset_index(drop=True)\n",
    "#X_train_C=X_train_C.reset_index(drop=True)\n",
    "#X_test_C=X_test_C.reset_index(drop=True)"
   ]
  },
  {
   "cell_type": "code",
   "execution_count": null,
   "metadata": {},
   "outputs": [],
   "source": []
  },
  {
   "cell_type": "code",
   "execution_count": null,
   "metadata": {},
   "outputs": [],
   "source": []
  },
  {
   "cell_type": "code",
   "execution_count": 94,
   "metadata": {},
   "outputs": [
    {
     "data": {
      "image/png": "[encoded data removed]",
      "text/plain": [
       "<Figure size 432x288 with 1 Axes>"
      ]
     },
     "metadata": {
      "needs_background": "light"
     },
     "output_type": "display_data"
    },
    {
     "data": {
      "image/png": "[encoded data removed]",
      "text/plain": [
       "<Figure size 432x288 with 1 Axes>"
      ]
     },
     "metadata": {
      "needs_background": "light"
     },
     "output_type": "display_data"
    },
    {
     "data": {
      "image/png": "[encoded data removed]",
      "text/plain": [
       "<Figure size 432x288 with 1 Axes>"
      ]
     },
     "metadata": {
      "needs_background": "light"
     },
     "output_type": "display_data"
    },
    {
     "data": {
      "image/png": "[encoded data removed]",
      "text/plain": [
       "<Figure size 432x288 with 1 Axes>"
      ]
     },
     "metadata": {
      "needs_background": "light"
     },
     "output_type": "display_data"
    },
    {
     "data": {
      "image/png": "[encoded data removed]",
      "text/plain": [
       "<Figure size 432x288 with 1 Axes>"
      ]
     },
     "metadata": {
      "needs_background": "light"
     },
     "output_type": "display_data"
    },
    {
     "data": {
      "image/png": "[encoded data removed]",
      "text/plain": [
       "<Figure size 432x288 with 1 Axes>"
      ]
     },
     "metadata": {
      "needs_background": "light"
     },
     "output_type": "display_data"
    },
    {
     "data": {
      "image/png": "[encoded data removed]",
      "text/plain": [
       "<Figure size 432x288 with 1 Axes>"
      ]
     },
     "metadata": {
      "needs_background": "light"
     },
     "output_type": "display_data"
    },
    {
     "data": {
      "image/png": "[encoded data removed]",
      "text/plain": [
       "<Figure size 432x288 with 1 Axes>"
      ]
     },
     "metadata": {
      "needs_background": "light"
     },
     "output_type": "display_data"
    },
    {
     "data": {
      "image/png": "[encoded data removed]",
      "text/plain": [
       "<Figure size 432x288 with 1 Axes>"
      ]
     },
     "metadata": {
      "needs_background": "light"
     },
     "output_type": "display_data"
    },
    {
     "data": {
      "image/png": "[encoded data removed]",
      "text/plain": [
       "<Figure size 432x288 with 1 Axes>"
      ]
     },
     "metadata": {
      "needs_background": "light"
     },
     "output_type": "display_data"
    },
    {
     "data": {
      "image/png": "[encoded data removed]",
      "text/plain": [
       "<Figure size 432x288 with 1 Axes>"
      ]
     },
     "metadata": {
      "needs_background": "light"
     },
     "output_type": "display_data"
    },
    {
     "data": {
      "image/png": "[encoded data removed]",
      "text/plain": [
       "<Figure size 432x288 with 1 Axes>"
      ]
     },
     "metadata": {
      "needs_background": "light"
     },
     "output_type": "display_data"
    },
    {
     "data": {
      "image/png": "[encoded data removed]",
      "text/plain": [
       "<Figure size 432x288 with 1 Axes>"
      ]
     },
     "metadata": {
      "needs_background": "light"
     },
     "output_type": "display_data"
    },
    {
     "data": {
      "image/png": "[encoded data removed]",
      "text/plain": [
       "<Figure size 432x288 with 1 Axes>"
      ]
     },
     "metadata": {
      "needs_background": "light"
     },
     "output_type": "display_data"
    },
    {
     "data": {
      "image/png": "[encoded data removed]",
      "text/plain": [
       "<Figure size 432x288 with 1 Axes>"
      ]
     },
     "metadata": {
      "needs_background": "light"
     },
     "output_type": "display_data"
    },
    {
     "data": {
      "image/png": "[encoded data removed]",
      "text/plain": [
       "<Figure size 432x288 with 1 Axes>"
      ]
     },
     "metadata": {
      "needs_background": "light"
     },
     "output_type": "display_data"
    },
    {
     "data": {
      "image/png": "[encoded data removed]",
      "text/plain": [
       "<Figure size 432x288 with 1 Axes>"
      ]
     },
     "metadata": {
      "needs_background": "light"
     },
     "output_type": "display_data"
    },
    {
     "data": {
      "image/png": "[encoded data removed]",
      "text/plain": [
       "<Figure size 432x288 with 1 Axes>"
      ]
     },
     "metadata": {
      "needs_background": "light"
     },
     "output_type": "display_data"
    },
    {
     "data": {
      "image/png": "[encoded data removed]",
      "text/plain": [
       "<Figure size 432x288 with 1 Axes>"
      ]
     },
     "metadata": {
      "needs_background": "light"
     },
     "output_type": "display_data"
    },
    {
     "data": {
      "image/png": "[encoded data removed]",
      "text/plain": [
       "<Figure size 432x288 with 1 Axes>"
      ]
     },
     "metadata": {
      "needs_background": "light"
     },
     "output_type": "display_data"
    },
    {
     "data": {
      "image/png": "[encoded data removed]",
      "text/plain": [
       "<Figure size 432x288 with 1 Axes>"
      ]
     },
     "metadata": {
      "needs_background": "light"
     },
     "output_type": "display_data"
    },
    {
     "data": {
      "image/png": "[encoded data removed]",
      "text/plain": [
       "<Figure size 432x288 with 1 Axes>"
      ]
     },
     "metadata": {
      "needs_background": "light"
     },
     "output_type": "display_data"
    },
    {
     "data": {
      "image/png": "[encoded data removed]",
      "text/plain": [
       "<Figure size 432x288 with 1 Axes>"
      ]
     },
     "metadata": {
      "needs_background": "light"
     },
     "output_type": "display_data"
    },
    {
     "data": {
      "image/png": "[encoded data removed]",
      "text/plain": [
       "<Figure size 432x288 with 1 Axes>"
      ]
     },
     "metadata": {
      "needs_background": "light"
     },
     "output_type": "display_data"
    },
    {
     "data": {
      "image/png": "[encoded data removed]",
      "text/plain": [
       "<Figure size 432x288 with 1 Axes>"
      ]
     },
     "metadata": {
      "needs_background": "light"
     },
     "output_type": "display_data"
    },
    {
     "data": {
      "image/png": "[encoded data removed]",
      "text/plain": [
       "<Figure size 432x288 with 1 Axes>"
      ]
     },
     "metadata": {
      "needs_background": "light"
     },
     "output_type": "display_data"
    },
    {
     "data": {
      "image/png": "[encoded data removed]",
      "text/plain": [
       "<Figure size 432x288 with 1 Axes>"
      ]
     },
     "metadata": {
      "needs_background": "light"
     },
     "output_type": "display_data"
    },
    {
     "data": {
      "image/png": "[encoded data removed]",
      "text/plain": [
       "<Figure size 432x288 with 1 Axes>"
      ]
     },
     "metadata": {
      "needs_background": "light"
     },
     "output_type": "display_data"
    },
    {
     "data": {
      "image/png": "[encoded data removed]",
      "text/plain": [
       "<Figure size 432x288 with 1 Axes>"
      ]
     },
     "metadata": {
      "needs_background": "light"
     },
     "output_type": "display_data"
    },
    {
     "data": {
      "image/png": "[encoded data removed]",
      "text/plain": [
       "<Figure size 432x288 with 1 Axes>"
      ]
     },
     "metadata": {
      "needs_background": "light"
     },
     "output_type": "display_data"
    }
   ],
   "source": [
    "for i in X_train.columns:\n",
    "    sns.distplot(X_train[i])\n",
    "    plt.show()"
   ]
  },
  {
   "cell_type": "code",
   "execution_count": 28,
   "metadata": {},
   "outputs": [],
   "source": [
    "X_train_C=X_train_C.reset_index(drop=True)\n",
    "y_train=y_train.reset_index(drop=True)"
   ]
  },
  {
   "cell_type": "markdown",
   "metadata": {},
   "source": [
    "## OLS full base model "
   ]
  },
  {
   "cell_type": "code",
   "execution_count": 29,
   "metadata": {},
   "outputs": [
    {
     "data": {
      "text/html": [
       "<table class=\"simpletable\">\n",
       "<caption>OLS Regression Results</caption>\n",
       "<tr>\n",
       "  <th>Dep. Variable:</th>       <td>num_orders</td>    <th>  R-squared:         </th>  <td>   0.416</td>  \n",
       "</tr>\n",
       "<tr>\n",
       "  <th>Model:</th>                   <td>OLS</td>       <th>  Adj. R-squared:    </th>  <td>   0.416</td>  \n",
       "</tr>\n",
       "<tr>\n",
       "  <th>Method:</th>             <td>Least Squares</td>  <th>  F-statistic:       </th>  <td>   8142.</td>  \n",
       "</tr>\n",
       "<tr>\n",
       "  <th>Date:</th>             <td>Fri, 25 Jun 2021</td> <th>  Prob (F-statistic):</th>   <td>  0.00</td>   \n",
       "</tr>\n",
       "<tr>\n",
       "  <th>Time:</th>                 <td>20:23:34</td>     <th>  Log-Likelihood:    </th> <td>-2.2791e+06</td>\n",
       "</tr>\n",
       "<tr>\n",
       "  <th>No. Observations:</th>      <td>319578</td>      <th>  AIC:               </th>  <td>4.558e+06</td> \n",
       "</tr>\n",
       "<tr>\n",
       "  <th>Df Residuals:</th>          <td>319549</td>      <th>  BIC:               </th>  <td>4.559e+06</td> \n",
       "</tr>\n",
       "<tr>\n",
       "  <th>Df Model:</th>              <td>    28</td>      <th>                     </th>      <td> </td>     \n",
       "</tr>\n",
       "<tr>\n",
       "  <th>Covariance Type:</th>      <td>nonrobust</td>    <th>                     </th>      <td> </td>     \n",
       "</tr>\n",
       "</table>\n",
       "<table class=\"simpletable\">\n",
       "<tr>\n",
       "            <td></td>               <th>coef</th>     <th>std err</th>      <th>t</th>      <th>P>|t|</th>  <th>[0.025</th>    <th>0.975]</th>  \n",
       "</tr>\n",
       "<tr>\n",
       "  <th>const</th>                 <td>  262.1207</td> <td>    0.535</td> <td>  489.545</td> <td> 0.000</td> <td>  261.071</td> <td>  263.170</td>\n",
       "</tr>\n",
       "<tr>\n",
       "  <th>id</th>                    <td>    0.1486</td> <td>    0.535</td> <td>    0.277</td> <td> 0.781</td> <td>   -0.901</td> <td>    1.198</td>\n",
       "</tr>\n",
       "<tr>\n",
       "  <th>week</th>                  <td>   -4.3835</td> <td>    0.540</td> <td>   -8.116</td> <td> 0.000</td> <td>   -5.442</td> <td>   -3.325</td>\n",
       "</tr>\n",
       "<tr>\n",
       "  <th>center_id</th>             <td>  -18.4125</td> <td>    0.548</td> <td>  -33.582</td> <td> 0.000</td> <td>  -19.487</td> <td>  -17.338</td>\n",
       "</tr>\n",
       "<tr>\n",
       "  <th>meal_id</th>               <td>    5.9779</td> <td>    0.626</td> <td>    9.551</td> <td> 0.000</td> <td>    4.751</td> <td>    7.205</td>\n",
       "</tr>\n",
       "<tr>\n",
       "  <th>checkout_price</th>        <td> -171.3564</td> <td>    2.327</td> <td>  -73.637</td> <td> 0.000</td> <td> -175.917</td> <td> -166.795</td>\n",
       "</tr>\n",
       "<tr>\n",
       "  <th>base_price</th>            <td>  106.3037</td> <td>    2.709</td> <td>   39.234</td> <td> 0.000</td> <td>  100.993</td> <td>  111.614</td>\n",
       "</tr>\n",
       "<tr>\n",
       "  <th>emailer_for_promotion</th> <td>   62.6304</td> <td>    0.665</td> <td>   94.186</td> <td> 0.000</td> <td>   61.327</td> <td>   63.934</td>\n",
       "</tr>\n",
       "<tr>\n",
       "  <th>homepage_featured</th>     <td>   71.4997</td> <td>    0.608</td> <td>  117.546</td> <td> 0.000</td> <td>   70.308</td> <td>   72.692</td>\n",
       "</tr>\n",
       "<tr>\n",
       "  <th>city_code</th>             <td>    9.0993</td> <td>    0.544</td> <td>   16.726</td> <td> 0.000</td> <td>    8.033</td> <td>   10.166</td>\n",
       "</tr>\n",
       "<tr>\n",
       "  <th>region_code</th>           <td>   10.7557</td> <td>    0.537</td> <td>   20.021</td> <td> 0.000</td> <td>    9.703</td> <td>   11.809</td>\n",
       "</tr>\n",
       "<tr>\n",
       "  <th>op_area</th>               <td>   77.1750</td> <td>    0.554</td> <td>  139.342</td> <td> 0.000</td> <td>   76.089</td> <td>   78.261</td>\n",
       "</tr>\n",
       "<tr>\n",
       "  <th>category_Beverages</th>    <td>    6.3907</td> <td>    0.890</td> <td>    7.182</td> <td> 0.000</td> <td>    4.647</td> <td>    8.135</td>\n",
       "</tr>\n",
       "<tr>\n",
       "  <th>category_Biryani</th>      <td>   25.9947</td> <td>    0.709</td> <td>   36.665</td> <td> 0.000</td> <td>   24.605</td> <td>   27.384</td>\n",
       "</tr>\n",
       "<tr>\n",
       "  <th>category_Desert</th>       <td>   28.5918</td> <td>    0.748</td> <td>   38.228</td> <td> 0.000</td> <td>   27.126</td> <td>   30.058</td>\n",
       "</tr>\n",
       "<tr>\n",
       "  <th>category_Extras</th>       <td>  -35.4428</td> <td>    0.635</td> <td>  -55.805</td> <td> 0.000</td> <td>  -36.688</td> <td>  -34.198</td>\n",
       "</tr>\n",
       "<tr>\n",
       "  <th>category_Fish</th>         <td>    0.0376</td> <td>    0.597</td> <td>    0.063</td> <td> 0.950</td> <td>   -1.132</td> <td>    1.207</td>\n",
       "</tr>\n",
       "<tr>\n",
       "  <th>category_Other Snacks</th> <td>  -74.2635</td> <td>    0.672</td> <td> -110.511</td> <td> 0.000</td> <td>  -75.581</td> <td>  -72.946</td>\n",
       "</tr>\n",
       "<tr>\n",
       "  <th>category_Pasta</th>        <td>  -72.6964</td> <td>    0.715</td> <td> -101.661</td> <td> 0.000</td> <td>  -74.098</td> <td>  -71.295</td>\n",
       "</tr>\n",
       "<tr>\n",
       "  <th>category_Pizza</th>        <td>   10.6953</td> <td>    0.709</td> <td>   15.081</td> <td> 0.000</td> <td>    9.305</td> <td>   12.085</td>\n",
       "</tr>\n",
       "<tr>\n",
       "  <th>category_Rice Bowl</th>    <td>  165.6223</td> <td>    0.700</td> <td>  236.719</td> <td> 0.000</td> <td>  164.251</td> <td>  166.994</td>\n",
       "</tr>\n",
       "<tr>\n",
       "  <th>category_Salad</th>        <td>    3.8289</td> <td>    0.668</td> <td>    5.734</td> <td> 0.000</td> <td>    2.520</td> <td>    5.138</td>\n",
       "</tr>\n",
       "<tr>\n",
       "  <th>category_Sandwich</th>     <td>   35.4902</td> <td>    0.664</td> <td>   53.462</td> <td> 0.000</td> <td>   34.189</td> <td>   36.791</td>\n",
       "</tr>\n",
       "<tr>\n",
       "  <th>category_Seafood</th>      <td>   -9.8783</td> <td>    0.691</td> <td>  -14.298</td> <td> 0.000</td> <td>  -11.232</td> <td>   -8.524</td>\n",
       "</tr>\n",
       "<tr>\n",
       "  <th>category_Soup</th>         <td>  -64.1418</td> <td>    0.599</td> <td> -107.123</td> <td> 0.000</td> <td>  -65.315</td> <td>  -62.968</td>\n",
       "</tr>\n",
       "<tr>\n",
       "  <th>category_Starters</th>     <td>  -68.2442</td> <td>    0.686</td> <td>  -99.451</td> <td> 0.000</td> <td>  -69.589</td> <td>  -66.899</td>\n",
       "</tr>\n",
       "<tr>\n",
       "  <th>cuisine_Continental</th>   <td>  -24.9052</td> <td>    1.150</td> <td>  -21.650</td> <td> 0.000</td> <td>  -27.160</td> <td>  -22.651</td>\n",
       "</tr>\n",
       "<tr>\n",
       "  <th>cuisine_Indian</th>        <td> -110.4584</td> <td>    0.797</td> <td> -138.663</td> <td> 0.000</td> <td> -112.020</td> <td> -108.897</td>\n",
       "</tr>\n",
       "<tr>\n",
       "  <th>cuisine_Italian</th>       <td>   53.8244</td> <td>    0.776</td> <td>   69.370</td> <td> 0.000</td> <td>   52.304</td> <td>   55.345</td>\n",
       "</tr>\n",
       "<tr>\n",
       "  <th>cuisine_Thai</th>          <td>   77.9014</td> <td>    1.001</td> <td>   77.823</td> <td> 0.000</td> <td>   75.939</td> <td>   79.863</td>\n",
       "</tr>\n",
       "<tr>\n",
       "  <th>center_type</th>           <td>   -4.0638</td> <td>    0.550</td> <td>   -7.382</td> <td> 0.000</td> <td>   -5.143</td> <td>   -2.985</td>\n",
       "</tr>\n",
       "</table>\n",
       "<table class=\"simpletable\">\n",
       "<tr>\n",
       "  <th>Omnibus:</th>       <td>480886.858</td> <th>  Durbin-Watson:     </th>   <td>   1.996</td>   \n",
       "</tr>\n",
       "<tr>\n",
       "  <th>Prob(Omnibus):</th>   <td> 0.000</td>   <th>  Jarque-Bera (JB):  </th> <td>820804347.692</td>\n",
       "</tr>\n",
       "<tr>\n",
       "  <th>Skew:</th>            <td> 8.821</td>   <th>  Prob(JB):          </th>   <td>    0.00</td>   \n",
       "</tr>\n",
       "<tr>\n",
       "  <th>Kurtosis:</th>        <td>250.650</td>  <th>  Cond. No.          </th>   <td>2.37e+15</td>   \n",
       "</tr>\n",
       "</table><br/><br/>Notes:<br/>[1] Standard Errors assume that the covariance matrix of the errors is correctly specified.<br/>[2] The smallest eigenvalue is 2.12e-25. This might indicate that there are<br/>strong multicollinearity problems or that the design matrix is singular."
      ],
      "text/plain": [
       "<class 'statsmodels.iolib.summary.Summary'>\n",
       "\"\"\"\n",
       "                            OLS Regression Results                            \n",
       "==============================================================================\n",
       "Dep. Variable:             num_orders   R-squared:                       0.416\n",
       "Model:                            OLS   Adj. R-squared:                  0.416\n",
       "Method:                 Least Squares   F-statistic:                     8142.\n",
       "Date:                Fri, 25 Jun 2021   Prob (F-statistic):               0.00\n",
       "Time:                        20:23:34   Log-Likelihood:            -2.2791e+06\n",
       "No. Observations:              319578   AIC:                         4.558e+06\n",
       "Df Residuals:                  319549   BIC:                         4.559e+06\n",
       "Df Model:                          28                                         \n",
       "Covariance Type:            nonrobust                                         \n",
       "=========================================================================================\n",
       "                            coef    std err          t      P>|t|      [0.025      0.975]\n",
       "-----------------------------------------------------------------------------------------\n",
       "const                   262.1207      0.535    489.545      0.000     261.071     263.170\n",
       "id                        0.1486      0.535      0.277      0.781      -0.901       1.198\n",
       "week                     -4.3835      0.540     -8.116      0.000      -5.442      -3.325\n",
       "center_id               -18.4125      0.548    -33.582      0.000     -19.487     -17.338\n",
       "meal_id                   5.9779      0.626      9.551      0.000       4.751       7.205\n",
       "checkout_price         -171.3564      2.327    -73.637      0.000    -175.917    -166.795\n",
       "base_price              106.3037      2.709     39.234      0.000     100.993     111.614\n",
       "emailer_for_promotion    62.6304      0.665     94.186      0.000      61.327      63.934\n",
       "homepage_featured        71.4997      0.608    117.546      0.000      70.308      72.692\n",
       "city_code                 9.0993      0.544     16.726      0.000       8.033      10.166\n",
       "region_code              10.7557      0.537     20.021      0.000       9.703      11.809\n",
       "op_area                  77.1750      0.554    139.342      0.000      76.089      78.261\n",
       "category_Beverages        6.3907      0.890      7.182      0.000       4.647       8.135\n",
       "category_Biryani         25.9947      0.709     36.665      0.000      24.605      27.384\n",
       "category_Desert          28.5918      0.748     38.228      0.000      27.126      30.058\n",
       "category_Extras         -35.4428      0.635    -55.805      0.000     -36.688     -34.198\n",
       "category_Fish             0.0376      0.597      0.063      0.950      -1.132       1.207\n",
       "category_Other Snacks   -74.2635      0.672   -110.511      0.000     -75.581     -72.946\n",
       "category_Pasta          -72.6964      0.715   -101.661      0.000     -74.098     -71.295\n",
       "category_Pizza           10.6953      0.709     15.081      0.000       9.305      12.085\n",
       "category_Rice Bowl      165.6223      0.700    236.719      0.000     164.251     166.994\n",
       "category_Salad            3.8289      0.668      5.734      0.000       2.520       5.138\n",
       "category_Sandwich        35.4902      0.664     53.462      0.000      34.189      36.791\n",
       "category_Seafood         -9.8783      0.691    -14.298      0.000     -11.232      -8.524\n",
       "category_Soup           -64.1418      0.599   -107.123      0.000     -65.315     -62.968\n",
       "category_Starters       -68.2442      0.686    -99.451      0.000     -69.589     -66.899\n",
       "cuisine_Continental     -24.9052      1.150    -21.650      0.000     -27.160     -22.651\n",
       "cuisine_Indian         -110.4584      0.797   -138.663      0.000    -112.020    -108.897\n",
       "cuisine_Italian          53.8244      0.776     69.370      0.000      52.304      55.345\n",
       "cuisine_Thai             77.9014      1.001     77.823      0.000      75.939      79.863\n",
       "center_type              -4.0638      0.550     -7.382      0.000      -5.143      -2.985\n",
       "==============================================================================\n",
       "Omnibus:                   480886.858   Durbin-Watson:                   1.996\n",
       "Prob(Omnibus):                  0.000   Jarque-Bera (JB):        820804347.692\n",
       "Skew:                           8.821   Prob(JB):                         0.00\n",
       "Kurtosis:                     250.650   Cond. No.                     2.37e+15\n",
       "==============================================================================\n",
       "\n",
       "Notes:\n",
       "[1] Standard Errors assume that the covariance matrix of the errors is correctly specified.\n",
       "[2] The smallest eigenvalue is 2.12e-25. This might indicate that there are\n",
       "strong multicollinearity problems or that the design matrix is singular.\n",
       "\"\"\""
      ]
     },
     "execution_count": 29,
     "metadata": {},
     "output_type": "execute_result"
    }
   ],
   "source": [
    "import statsmodels.api as sm\n",
    "X_train_C = sm.add_constant(X_train)\n",
    "model=sm.OLS(y_train,X_train_C).fit()\n",
    "model.summary()"
   ]
  },
  {
   "cell_type": "code",
   "execution_count": 30,
   "metadata": {},
   "outputs": [],
   "source": [
    "X_test_C=sm.add_constant(X_test)"
   ]
  },
  {
   "cell_type": "code",
   "execution_count": 31,
   "metadata": {},
   "outputs": [],
   "source": [
    "y_pred_train=model.predict(X_train_C)"
   ]
  },
  {
   "cell_type": "code",
   "execution_count": 32,
   "metadata": {},
   "outputs": [],
   "source": [
    "y_pred_test=model.predict(X_test_C)\n"
   ]
  },
  {
   "cell_type": "code",
   "execution_count": 33,
   "metadata": {},
   "outputs": [
    {
     "name": "stdout",
     "output_type": "stream",
     "text": [
      "163.24177462418672\n",
      "163.87602479754634\n"
     ]
    }
   ],
   "source": [
    "from sklearn.metrics import mean_absolute_error\n",
    "print(mean_absolute_error(y_train,y_pred_train))\n",
    "print(mean_absolute_error(y_test,y_pred_test))"
   ]
  },
  {
   "cell_type": "code",
   "execution_count": 34,
   "metadata": {},
   "outputs": [
    {
     "data": {
      "text/plain": [
       "0.4140046986974014"
      ]
     },
     "execution_count": 34,
     "metadata": {},
     "output_type": "execute_result"
    }
   ],
   "source": [
    "from sklearn.linear_model import LinearRegression\n",
    "lr=LinearRegression()\n",
    "reg=lr.fit(X_train,y_train)\n",
    "reg.score(X_test,y_test)\n"
   ]
  },
  {
   "cell_type": "code",
   "execution_count": 35,
   "metadata": {},
   "outputs": [],
   "source": [
    "X=X.drop(['id','base_price'],axis=1)"
   ]
  },
  {
   "cell_type": "code",
   "execution_count": 36,
   "metadata": {},
   "outputs": [
    {
     "data": {
      "text/html": [
       "<div>\n",
       "<style scoped>\n",
       "    .dataframe tbody tr th:only-of-type {\n",
       "        vertical-align: middle;\n",
       "    }\n",
       "\n",
       "    .dataframe tbody tr th {\n",
       "        vertical-align: top;\n",
       "    }\n",
       "\n",
       "    .dataframe thead th {\n",
       "        text-align: right;\n",
       "    }\n",
       "</style>\n",
       "<table border=\"1\" class=\"dataframe\">\n",
       "  <thead>\n",
       "    <tr style=\"text-align: right;\">\n",
       "      <th></th>\n",
       "      <th>vif</th>\n",
       "      <th>features</th>\n",
       "    </tr>\n",
       "  </thead>\n",
       "  <tbody>\n",
       "    <tr>\n",
       "      <th>14</th>\n",
       "      <td>inf</td>\n",
       "      <td>category_Other Snacks</td>\n",
       "    </tr>\n",
       "    <tr>\n",
       "      <th>12</th>\n",
       "      <td>inf</td>\n",
       "      <td>category_Extras</td>\n",
       "    </tr>\n",
       "    <tr>\n",
       "      <th>21</th>\n",
       "      <td>inf</td>\n",
       "      <td>category_Soup</td>\n",
       "    </tr>\n",
       "    <tr>\n",
       "      <th>20</th>\n",
       "      <td>inf</td>\n",
       "      <td>category_Seafood</td>\n",
       "    </tr>\n",
       "    <tr>\n",
       "      <th>19</th>\n",
       "      <td>inf</td>\n",
       "      <td>category_Sandwich</td>\n",
       "    </tr>\n",
       "    <tr>\n",
       "      <th>18</th>\n",
       "      <td>inf</td>\n",
       "      <td>category_Salad</td>\n",
       "    </tr>\n",
       "    <tr>\n",
       "      <th>17</th>\n",
       "      <td>inf</td>\n",
       "      <td>category_Rice Bowl</td>\n",
       "    </tr>\n",
       "    <tr>\n",
       "      <th>16</th>\n",
       "      <td>inf</td>\n",
       "      <td>category_Pizza</td>\n",
       "    </tr>\n",
       "    <tr>\n",
       "      <th>15</th>\n",
       "      <td>inf</td>\n",
       "      <td>category_Pasta</td>\n",
       "    </tr>\n",
       "    <tr>\n",
       "      <th>24</th>\n",
       "      <td>inf</td>\n",
       "      <td>cuisine_Indian</td>\n",
       "    </tr>\n",
       "    <tr>\n",
       "      <th>13</th>\n",
       "      <td>inf</td>\n",
       "      <td>category_Fish</td>\n",
       "    </tr>\n",
       "    <tr>\n",
       "      <th>11</th>\n",
       "      <td>inf</td>\n",
       "      <td>category_Desert</td>\n",
       "    </tr>\n",
       "    <tr>\n",
       "      <th>23</th>\n",
       "      <td>inf</td>\n",
       "      <td>cuisine_Continental</td>\n",
       "    </tr>\n",
       "    <tr>\n",
       "      <th>10</th>\n",
       "      <td>inf</td>\n",
       "      <td>category_Biryani</td>\n",
       "    </tr>\n",
       "    <tr>\n",
       "      <th>9</th>\n",
       "      <td>inf</td>\n",
       "      <td>category_Beverages</td>\n",
       "    </tr>\n",
       "    <tr>\n",
       "      <th>25</th>\n",
       "      <td>inf</td>\n",
       "      <td>cuisine_Italian</td>\n",
       "    </tr>\n",
       "    <tr>\n",
       "      <th>26</th>\n",
       "      <td>inf</td>\n",
       "      <td>cuisine_Thai</td>\n",
       "    </tr>\n",
       "    <tr>\n",
       "      <th>22</th>\n",
       "      <td>inf</td>\n",
       "      <td>category_Starters</td>\n",
       "    </tr>\n",
       "    <tr>\n",
       "      <th>3</th>\n",
       "      <td>8.260145</td>\n",
       "      <td>checkout_price</td>\n",
       "    </tr>\n",
       "    <tr>\n",
       "      <th>4</th>\n",
       "      <td>1.448959</td>\n",
       "      <td>emailer_for_promotion</td>\n",
       "    </tr>\n",
       "    <tr>\n",
       "      <th>2</th>\n",
       "      <td>1.365325</td>\n",
       "      <td>meal_id</td>\n",
       "    </tr>\n",
       "    <tr>\n",
       "      <th>5</th>\n",
       "      <td>1.246633</td>\n",
       "      <td>homepage_featured</td>\n",
       "    </tr>\n",
       "    <tr>\n",
       "      <th>8</th>\n",
       "      <td>1.113546</td>\n",
       "      <td>op_area</td>\n",
       "    </tr>\n",
       "    <tr>\n",
       "      <th>27</th>\n",
       "      <td>1.096772</td>\n",
       "      <td>center_type</td>\n",
       "    </tr>\n",
       "    <tr>\n",
       "      <th>1</th>\n",
       "      <td>1.050327</td>\n",
       "      <td>center_id</td>\n",
       "    </tr>\n",
       "    <tr>\n",
       "      <th>6</th>\n",
       "      <td>1.041251</td>\n",
       "      <td>city_code</td>\n",
       "    </tr>\n",
       "    <tr>\n",
       "      <th>0</th>\n",
       "      <td>1.017341</td>\n",
       "      <td>week</td>\n",
       "    </tr>\n",
       "    <tr>\n",
       "      <th>7</th>\n",
       "      <td>1.004668</td>\n",
       "      <td>region_code</td>\n",
       "    </tr>\n",
       "  </tbody>\n",
       "</table>\n",
       "</div>"
      ],
      "text/plain": [
       "         vif               features\n",
       "14       inf  category_Other Snacks\n",
       "12       inf        category_Extras\n",
       "21       inf          category_Soup\n",
       "20       inf       category_Seafood\n",
       "19       inf      category_Sandwich\n",
       "18       inf         category_Salad\n",
       "17       inf     category_Rice Bowl\n",
       "16       inf         category_Pizza\n",
       "15       inf         category_Pasta\n",
       "24       inf         cuisine_Indian\n",
       "13       inf          category_Fish\n",
       "11       inf        category_Desert\n",
       "23       inf    cuisine_Continental\n",
       "10       inf       category_Biryani\n",
       "9        inf     category_Beverages\n",
       "25       inf        cuisine_Italian\n",
       "26       inf           cuisine_Thai\n",
       "22       inf      category_Starters\n",
       "3   8.260145         checkout_price\n",
       "4   1.448959  emailer_for_promotion\n",
       "2   1.365325                meal_id\n",
       "5   1.246633      homepage_featured\n",
       "8   1.113546                op_area\n",
       "27  1.096772            center_type\n",
       "1   1.050327              center_id\n",
       "6   1.041251              city_code\n",
       "0   1.017341                   week\n",
       "7   1.004668            region_code"
      ]
     },
     "execution_count": 36,
     "metadata": {},
     "output_type": "execute_result"
    }
   ],
   "source": [
    "vif_data=pd.DataFrame()\n",
    "from statsmodels.stats.outliers_influence import variance_inflation_factor\n",
    "vif_data['vif']=[variance_inflation_factor(X.select_dtypes(np.number).values,i) for i in range(len(X.select_dtypes(np.number).columns))]\n",
    "vif_data=pd.DataFrame(vif_data)\n",
    "vif_data['features']=X.columns\n",
    "vif_data.sort_values(by='vif',ascending=False)"
   ]
  },
  {
   "cell_type": "code",
   "execution_count": null,
   "metadata": {},
   "outputs": [],
   "source": []
  },
  {
   "cell_type": "markdown",
   "metadata": {},
   "source": [
    "## 2)"
   ]
  },
  {
   "cell_type": "markdown",
   "metadata": {},
   "source": [
    "## droping insignificant data"
   ]
  },
  {
   "cell_type": "code",
   "execution_count": 36,
   "metadata": {},
   "outputs": [],
   "source": [
    "X = data.drop(['num_orders','id','base_price'],axis=1) # Independent data\n",
    "y = data['num_orders']             # dependent data"
   ]
  },
  {
   "cell_type": "markdown",
   "metadata": {},
   "source": [
    "## train test split"
   ]
  },
  {
   "cell_type": "code",
   "execution_count": 37,
   "metadata": {},
   "outputs": [],
   "source": [
    "from sklearn.model_selection import train_test_split\n",
    "\n",
    "X_train,X_test,y_train,y_test = train_test_split(X,y,test_size=0.3,random_state = 1)"
   ]
  },
  {
   "cell_type": "markdown",
   "metadata": {},
   "source": [
    "## scaling data"
   ]
  },
  {
   "cell_type": "code",
   "execution_count": 38,
   "metadata": {},
   "outputs": [],
   "source": [
    "from sklearn.preprocessing import StandardScaler\n",
    "SC=StandardScaler()\n",
    "X_train = SC.fit_transform(X_train)\n",
    "X_test = SC.transform(X_test)\n",
    "X_train=pd.DataFrame(X_train,columns=X.columns)\n",
    "X_test=pd.DataFrame(X_test,columns=X.columns)"
   ]
  },
  {
   "cell_type": "markdown",
   "metadata": {},
   "source": [
    "## Transformating data"
   ]
  },
  {
   "cell_type": "code",
   "execution_count": 39,
   "metadata": {},
   "outputs": [],
   "source": [
    "from sklearn.preprocessing import PowerTransformer\n",
    "P=PowerTransformer()\n",
    "X_train=P.fit_transform(X_train)\n",
    "X_test=P.transform(X_test)\n",
    "X_train=pd.DataFrame(X_train,columns=X.columns)\n",
    "X_test=pd.DataFrame(X_test,columns=X.columns)"
   ]
  },
  {
   "cell_type": "markdown",
   "metadata": {},
   "source": [
    "## New Model building"
   ]
  },
  {
   "cell_type": "code",
   "execution_count": 40,
   "metadata": {},
   "outputs": [],
   "source": [
    "from sklearn.linear_model import LinearRegression\n",
    "from sklearn.tree import DecisionTreeRegressor\n",
    "from sklearn.metrics import r2_score\n",
    "from sklearn.ensemble import RandomForestRegressor,AdaBoostRegressor,GradientBoostingRegressor\n",
    "from xgboost import XGBRegressor"
   ]
  },
  {
   "cell_type": "code",
   "execution_count": 41,
   "metadata": {},
   "outputs": [],
   "source": [
    "model_lr = LinearRegression()\n",
    "model_dt = DecisionTreeRegressor()\n",
    "model_rf = RandomForestRegressor()\n",
    "model_ab = AdaBoostRegressor()\n",
    "model_gb = GradientBoostingRegressor()\n",
    "model_xg = XGBRegressor()"
   ]
  },
  {
   "cell_type": "code",
   "execution_count": 42,
   "metadata": {},
   "outputs": [
    {
     "data": {
      "text/plain": [
       "XGBRegressor(base_score=0.5, booster='gbtree', colsample_bylevel=1,\n",
       "             colsample_bynode=1, colsample_bytree=1, gamma=0, gpu_id=-1,\n",
       "             importance_type='gain', interaction_constraints='',\n",
       "             learning_rate=0.300000012, max_delta_step=0, max_depth=6,\n",
       "             min_child_weight=1, missing=nan, monotone_constraints='()',\n",
       "             n_estimators=100, n_jobs=8, num_parallel_tree=1, random_state=0,\n",
       "             reg_alpha=0, reg_lambda=1, scale_pos_weight=1, subsample=1,\n",
       "             tree_method='exact', validate_parameters=1, verbosity=None)"
      ]
     },
     "execution_count": 42,
     "metadata": {},
     "output_type": "execute_result"
    }
   ],
   "source": [
    "model_lr.fit(X_train,y_train)\n",
    "model_dt.fit(X_train,y_train)\n",
    "model_rf.fit(X_train,y_train)\n",
    "model_ab.fit(X_train,y_train)\n",
    "model_gb.fit(X_train,y_train)\n",
    "model_xg.fit(X_train,y_train)"
   ]
  },
  {
   "cell_type": "code",
   "execution_count": 43,
   "metadata": {},
   "outputs": [
    {
     "name": "stdout",
     "output_type": "stream",
     "text": [
      "r2 value for linear base model 0.41357137868865723\n",
      "r2 value for linear base model test 0.4109375755571273\n"
     ]
    }
   ],
   "source": [
    "print('r2 value for linear base model',r2_score(y_train,model_lr.predict(X_train)))\n",
    "print('r2 value for linear base model test',r2_score(y_test,model_lr.predict(X_test)))"
   ]
  },
  {
   "cell_type": "code",
   "execution_count": 44,
   "metadata": {},
   "outputs": [
    {
     "name": "stdout",
     "output_type": "stream",
     "text": [
      "r2 value for decision tree base model train 1.0\n",
      "r2 value for decision tree base model test 0.7125826261550423\n"
     ]
    }
   ],
   "source": [
    "print('r2 value for decision tree base model train',r2_score(y_train,model_dt.predict(X_train)))\n",
    "print('r2 value for decision tree base model test',r2_score(y_test,model_dt.predict(X_test)))"
   ]
  },
  {
   "cell_type": "code",
   "execution_count": 45,
   "metadata": {},
   "outputs": [
    {
     "name": "stdout",
     "output_type": "stream",
     "text": [
      "r2 value for random forest base model train 0.980326657636476\n",
      "r2 value for random forest base model test 0.8528703210870334\n"
     ]
    }
   ],
   "source": [
    "print('r2 value for random forest base model train',r2_score(y_train,model_rf.predict(X_train)))\n",
    "print('r2 value for random forest base model test',r2_score(y_test,model_rf.predict(X_test)))"
   ]
  },
  {
   "cell_type": "code",
   "execution_count": 46,
   "metadata": {},
   "outputs": [
    {
     "name": "stdout",
     "output_type": "stream",
     "text": [
      "r2 value for ada boost base model train -4.751421956177308\n",
      "r2 value for ada boost base model test -4.842086326454696\n"
     ]
    }
   ],
   "source": [
    "print('r2 value for ada boost base model train',r2_score(y_train,model_ab.predict(X_train)))\n",
    "print('r2 value for ada boost base model test',r2_score(y_test,model_ab.predict(X_test)))"
   ]
  },
  {
   "cell_type": "code",
   "execution_count": 47,
   "metadata": {},
   "outputs": [
    {
     "name": "stdout",
     "output_type": "stream",
     "text": [
      "r2 value for gradient boosting base model train 0.6639358831556993\n",
      "r2 value for gradient boosting base model test 0.6610074734398106\n"
     ]
    }
   ],
   "source": [
    "print('r2 value for gradient boosting base model train',r2_score(y_train,model_gb.predict(X_train)))\n",
    "print('r2 value for gradient boosting base model test',r2_score(y_test,model_gb.predict(X_test)))"
   ]
  },
  {
   "cell_type": "code",
   "execution_count": 48,
   "metadata": {},
   "outputs": [
    {
     "name": "stdout",
     "output_type": "stream",
     "text": [
      "r2 value for xg boosting base model train 0.875969889329699\n",
      "r2 value for xg boosting base model test 0.8476722329634809\n"
     ]
    }
   ],
   "source": [
    "print('r2 value for xg boosting base model train',r2_score(y_train,model_xg.predict(X_train)))\n",
    "print('r2 value for xg boosting base model test',r2_score(y_test,model_xg.predict(X_test)))"
   ]
  },
  {
   "cell_type": "code",
   "execution_count": 44,
   "metadata": {},
   "outputs": [],
   "source": [
    "from lightgbm import LGBMRegressor"
   ]
  },
  {
   "cell_type": "code",
   "execution_count": 45,
   "metadata": {},
   "outputs": [
    {
     "data": {
      "text/plain": [
       "LGBMRegressor()"
      ]
     },
     "execution_count": 45,
     "metadata": {},
     "output_type": "execute_result"
    }
   ],
   "source": [
    "model_lgb=LGBMRegressor()\n",
    "model_lgb.fit(X_train,y_train)"
   ]
  },
  {
   "cell_type": "code",
   "execution_count": 46,
   "metadata": {},
   "outputs": [
    {
     "name": "stdout",
     "output_type": "stream",
     "text": [
      "r2 value for lmb base model train 0.8233408685534657\n",
      "r2 value for lmb base model test 0.8114625808932548\n"
     ]
    }
   ],
   "source": [
    "print('r2 value for lmb base model train',r2_score(y_train,model_lgb.predict(X_train)))\n",
    "print('r2 value for lmb base model test',r2_score(y_test,model_lgb.predict(X_test)))"
   ]
  },
  {
   "cell_type": "code",
   "execution_count": 47,
   "metadata": {},
   "outputs": [],
   "source": [
    "#from sklearn.model_selection import RandomizedSearchCV"
   ]
  },
  {
   "cell_type": "code",
   "execution_count": 52,
   "metadata": {
    "scrolled": true
   },
   "outputs": [
    {
     "name": "stdout",
     "output_type": "stream",
     "text": [
      "[0]\tvalidation_0-rmse:470.59308\n",
      "[100]\tvalidation_0-rmse:298.59790\n",
      "[200]\tvalidation_0-rmse:247.53845\n",
      "[300]\tvalidation_0-rmse:226.37904\n",
      "[400]\tvalidation_0-rmse:214.91859\n",
      "[500]\tvalidation_0-rmse:207.95329\n",
      "[600]\tvalidation_0-rmse:202.29938\n",
      "[700]\tvalidation_0-rmse:197.68574\n",
      "[800]\tvalidation_0-rmse:194.44795\n",
      "[900]\tvalidation_0-rmse:191.85776\n",
      "[1000]\tvalidation_0-rmse:189.55719\n",
      "[1100]\tvalidation_0-rmse:187.40465\n",
      "[1200]\tvalidation_0-rmse:185.57286\n",
      "[1300]\tvalidation_0-rmse:183.96146\n",
      "[1400]\tvalidation_0-rmse:182.56224\n",
      "[1500]\tvalidation_0-rmse:181.17827\n",
      "[1600]\tvalidation_0-rmse:179.81880\n",
      "[1700]\tvalidation_0-rmse:178.57240\n",
      "[1800]\tvalidation_0-rmse:177.27125\n",
      "[1900]\tvalidation_0-rmse:176.21379\n",
      "[2000]\tvalidation_0-rmse:175.22795\n",
      "[2100]\tvalidation_0-rmse:174.24564\n",
      "[2200]\tvalidation_0-rmse:173.28630\n",
      "[2300]\tvalidation_0-rmse:172.20033\n",
      "[2400]\tvalidation_0-rmse:171.24771\n",
      "[2500]\tvalidation_0-rmse:170.38080\n",
      "[2600]\tvalidation_0-rmse:169.59744\n",
      "[2700]\tvalidation_0-rmse:168.72745\n",
      "[2800]\tvalidation_0-rmse:167.86098\n",
      "[2900]\tvalidation_0-rmse:167.05592\n",
      "[3000]\tvalidation_0-rmse:166.35812\n",
      "[3100]\tvalidation_0-rmse:165.59180\n",
      "[3200]\tvalidation_0-rmse:164.85872\n",
      "[3300]\tvalidation_0-rmse:164.15686\n",
      "[3400]\tvalidation_0-rmse:163.51067\n",
      "[3500]\tvalidation_0-rmse:162.73250\n",
      "[3600]\tvalidation_0-rmse:162.04575\n",
      "[3700]\tvalidation_0-rmse:161.40626\n",
      "[3800]\tvalidation_0-rmse:160.68819\n",
      "[3900]\tvalidation_0-rmse:160.11319\n",
      "[4000]\tvalidation_0-rmse:159.59061\n",
      "[4100]\tvalidation_0-rmse:159.01651\n",
      "[4200]\tvalidation_0-rmse:158.49240\n",
      "[4300]\tvalidation_0-rmse:157.94142\n",
      "[4400]\tvalidation_0-rmse:157.44987\n",
      "[4500]\tvalidation_0-rmse:156.93201\n",
      "[4600]\tvalidation_0-rmse:156.43558\n",
      "[4700]\tvalidation_0-rmse:155.97722\n",
      "[4800]\tvalidation_0-rmse:155.49765\n",
      "[4900]\tvalidation_0-rmse:155.04752\n",
      "[5000]\tvalidation_0-rmse:154.64081\n",
      "[5100]\tvalidation_0-rmse:154.15367\n",
      "[5200]\tvalidation_0-rmse:153.72504\n",
      "[5300]\tvalidation_0-rmse:153.28705\n",
      "[5400]\tvalidation_0-rmse:152.91150\n",
      "[5500]\tvalidation_0-rmse:152.52747\n",
      "[5600]\tvalidation_0-rmse:152.22986\n",
      "[5700]\tvalidation_0-rmse:151.86443\n",
      "[5800]\tvalidation_0-rmse:151.60368\n",
      "[5900]\tvalidation_0-rmse:151.26575\n",
      "[6000]\tvalidation_0-rmse:150.98479\n",
      "[6100]\tvalidation_0-rmse:150.64981\n",
      "[6200]\tvalidation_0-rmse:150.39551\n",
      "[6300]\tvalidation_0-rmse:150.08447\n",
      "[6400]\tvalidation_0-rmse:149.72917\n",
      "[6500]\tvalidation_0-rmse:149.49409\n",
      "[6600]\tvalidation_0-rmse:149.18625\n",
      "[6700]\tvalidation_0-rmse:148.91095\n",
      "[6800]\tvalidation_0-rmse:148.63029\n",
      "[6900]\tvalidation_0-rmse:148.34737\n",
      "[7000]\tvalidation_0-rmse:148.07739\n",
      "[7100]\tvalidation_0-rmse:147.84769\n",
      "[7200]\tvalidation_0-rmse:147.60896\n",
      "[7300]\tvalidation_0-rmse:147.35767\n",
      "[7400]\tvalidation_0-rmse:147.13759\n",
      "[7500]\tvalidation_0-rmse:146.90569\n",
      "[7600]\tvalidation_0-rmse:146.69673\n",
      "[7700]\tvalidation_0-rmse:146.45793\n",
      "[7800]\tvalidation_0-rmse:146.22412\n",
      "[7900]\tvalidation_0-rmse:146.00566\n",
      "[8000]\tvalidation_0-rmse:145.79520\n",
      "[8100]\tvalidation_0-rmse:145.60886\n",
      "[8200]\tvalidation_0-rmse:145.41966\n",
      "[8300]\tvalidation_0-rmse:145.23131\n",
      "[8400]\tvalidation_0-rmse:145.03586\n",
      "[8500]\tvalidation_0-rmse:144.82700\n",
      "[8600]\tvalidation_0-rmse:144.65097\n",
      "[8700]\tvalidation_0-rmse:144.50974\n",
      "[8800]\tvalidation_0-rmse:144.30626\n",
      "[8900]\tvalidation_0-rmse:144.13318\n",
      "[9000]\tvalidation_0-rmse:143.95483\n",
      "[9100]\tvalidation_0-rmse:143.81093\n",
      "[9200]\tvalidation_0-rmse:143.65398\n",
      "[9300]\tvalidation_0-rmse:143.49773\n",
      "[9400]\tvalidation_0-rmse:143.33258\n",
      "[9500]\tvalidation_0-rmse:143.18794\n",
      "[9600]\tvalidation_0-rmse:143.07645\n",
      "[9700]\tvalidation_0-rmse:142.95976\n",
      "[9800]\tvalidation_0-rmse:142.82739\n",
      "[9900]\tvalidation_0-rmse:142.67476\n",
      "[10000]\tvalidation_0-rmse:142.52881\n",
      "[10100]\tvalidation_0-rmse:142.40143\n",
      "[10200]\tvalidation_0-rmse:142.26053\n",
      "[10300]\tvalidation_0-rmse:142.13344\n",
      "[10400]\tvalidation_0-rmse:142.03101\n",
      "[10500]\tvalidation_0-rmse:141.89624\n",
      "[10600]\tvalidation_0-rmse:141.78029\n",
      "[10700]\tvalidation_0-rmse:141.66501\n",
      "[10800]\tvalidation_0-rmse:141.53958\n",
      "[10900]\tvalidation_0-rmse:141.43333\n",
      "[11000]\tvalidation_0-rmse:141.31801\n",
      "[11100]\tvalidation_0-rmse:141.17523\n",
      "[11200]\tvalidation_0-rmse:141.06447\n",
      "[11300]\tvalidation_0-rmse:140.96631\n",
      "[11400]\tvalidation_0-rmse:140.87077\n",
      "[11500]\tvalidation_0-rmse:140.76230\n",
      "[11600]\tvalidation_0-rmse:140.64989\n",
      "[11700]\tvalidation_0-rmse:140.54141\n",
      "[11800]\tvalidation_0-rmse:140.45499\n",
      "[11900]\tvalidation_0-rmse:140.35486\n",
      "[12000]\tvalidation_0-rmse:140.25662\n",
      "[12100]\tvalidation_0-rmse:140.16792\n",
      "[12200]\tvalidation_0-rmse:140.06934\n",
      "[12300]\tvalidation_0-rmse:139.96770\n",
      "[12400]\tvalidation_0-rmse:139.86739\n",
      "[12500]\tvalidation_0-rmse:139.79459\n",
      "[12600]\tvalidation_0-rmse:139.69167\n",
      "[12700]\tvalidation_0-rmse:139.61166\n",
      "[12800]\tvalidation_0-rmse:139.51460\n",
      "[12900]\tvalidation_0-rmse:139.42009\n",
      "[13000]\tvalidation_0-rmse:139.31918\n",
      "[13100]\tvalidation_0-rmse:139.22902\n",
      "[13200]\tvalidation_0-rmse:139.14771\n",
      "[13300]\tvalidation_0-rmse:139.06871\n",
      "[13400]\tvalidation_0-rmse:138.98425\n",
      "[13500]\tvalidation_0-rmse:138.91382\n",
      "[13600]\tvalidation_0-rmse:138.84662\n",
      "[13700]\tvalidation_0-rmse:138.77585\n",
      "[13800]\tvalidation_0-rmse:138.69765\n",
      "[13900]\tvalidation_0-rmse:138.61797\n",
      "[14000]\tvalidation_0-rmse:138.52820\n",
      "[14100]\tvalidation_0-rmse:138.45129\n",
      "[14200]\tvalidation_0-rmse:138.37558\n",
      "[14300]\tvalidation_0-rmse:138.29619\n",
      "[14400]\tvalidation_0-rmse:138.20818\n",
      "[14500]\tvalidation_0-rmse:138.15369\n",
      "[14600]\tvalidation_0-rmse:138.05931\n",
      "[14700]\tvalidation_0-rmse:137.99698\n",
      "[14800]\tvalidation_0-rmse:137.93033\n",
      "[14900]\tvalidation_0-rmse:137.86565\n",
      "[15000]\tvalidation_0-rmse:137.78789\n",
      "[15100]\tvalidation_0-rmse:137.73041\n",
      "[15200]\tvalidation_0-rmse:137.65469\n",
      "[15300]\tvalidation_0-rmse:137.59380\n",
      "[15400]\tvalidation_0-rmse:137.52707\n",
      "[15500]\tvalidation_0-rmse:137.47815\n",
      "[15600]\tvalidation_0-rmse:137.43118\n",
      "[15700]\tvalidation_0-rmse:137.38483\n",
      "[15800]\tvalidation_0-rmse:137.32068\n",
      "[15900]\tvalidation_0-rmse:137.25061\n",
      "[16000]\tvalidation_0-rmse:137.20371\n",
      "[16100]\tvalidation_0-rmse:137.13779\n",
      "[16200]\tvalidation_0-rmse:137.08075\n",
      "[16300]\tvalidation_0-rmse:137.02473\n",
      "[16400]\tvalidation_0-rmse:136.95731\n",
      "[16500]\tvalidation_0-rmse:136.90041\n",
      "[16600]\tvalidation_0-rmse:136.85229\n",
      "[16700]\tvalidation_0-rmse:136.79597\n",
      "[16800]\tvalidation_0-rmse:136.73746\n",
      "[16900]\tvalidation_0-rmse:136.67395\n",
      "[17000]\tvalidation_0-rmse:136.62602\n",
      "[17100]\tvalidation_0-rmse:136.55351\n",
      "[17200]\tvalidation_0-rmse:136.50166\n",
      "[17300]\tvalidation_0-rmse:136.45138\n",
      "[17400]\tvalidation_0-rmse:136.40024\n",
      "[17500]\tvalidation_0-rmse:136.34270\n",
      "[17600]\tvalidation_0-rmse:136.27922\n",
      "[17700]\tvalidation_0-rmse:136.22897\n",
      "[17800]\tvalidation_0-rmse:136.16641\n",
      "[17900]\tvalidation_0-rmse:136.10797\n",
      "[18000]\tvalidation_0-rmse:136.05440\n",
      "[18100]\tvalidation_0-rmse:136.00777\n",
      "[18200]\tvalidation_0-rmse:135.95338\n",
      "[18300]\tvalidation_0-rmse:135.90552\n",
      "[18400]\tvalidation_0-rmse:135.85077\n",
      "[18500]\tvalidation_0-rmse:135.80559\n",
      "[18600]\tvalidation_0-rmse:135.75278\n",
      "[18700]\tvalidation_0-rmse:135.70532\n",
      "[18800]\tvalidation_0-rmse:135.65454\n",
      "[18900]\tvalidation_0-rmse:135.61009\n",
      "[19000]\tvalidation_0-rmse:135.56366\n",
      "[19100]\tvalidation_0-rmse:135.52075\n",
      "[19200]\tvalidation_0-rmse:135.46127\n",
      "[19300]\tvalidation_0-rmse:135.42776\n",
      "[19400]\tvalidation_0-rmse:135.38701\n",
      "[19500]\tvalidation_0-rmse:135.32939\n",
      "[19600]\tvalidation_0-rmse:135.27432\n",
      "[19700]\tvalidation_0-rmse:135.23430\n",
      "[19800]\tvalidation_0-rmse:135.18773\n",
      "[19900]\tvalidation_0-rmse:135.13886\n",
      "[20000]\tvalidation_0-rmse:135.10663\n",
      "[20100]\tvalidation_0-rmse:135.06337\n",
      "[20200]\tvalidation_0-rmse:135.00571\n",
      "[20300]\tvalidation_0-rmse:134.96190\n",
      "[20400]\tvalidation_0-rmse:134.93278\n",
      "[20500]\tvalidation_0-rmse:134.88792\n",
      "[20600]\tvalidation_0-rmse:134.83752\n",
      "[20700]\tvalidation_0-rmse:134.79649\n",
      "[20800]\tvalidation_0-rmse:134.75673\n",
      "[20900]\tvalidation_0-rmse:134.72357\n",
      "[21000]\tvalidation_0-rmse:134.68414\n",
      "[21100]\tvalidation_0-rmse:134.64558\n",
      "[21200]\tvalidation_0-rmse:134.60083\n",
      "[21300]\tvalidation_0-rmse:134.55522\n",
      "[21400]\tvalidation_0-rmse:134.50261\n",
      "[21500]\tvalidation_0-rmse:134.46257\n",
      "[21600]\tvalidation_0-rmse:134.42323\n",
      "[21700]\tvalidation_0-rmse:134.38742\n",
      "[21800]\tvalidation_0-rmse:134.35983\n",
      "[21900]\tvalidation_0-rmse:134.31882\n",
      "[22000]\tvalidation_0-rmse:134.26871\n",
      "[22100]\tvalidation_0-rmse:134.23671\n",
      "[22200]\tvalidation_0-rmse:134.19505\n",
      "[22300]\tvalidation_0-rmse:134.15062\n",
      "[22400]\tvalidation_0-rmse:134.11218\n",
      "[22500]\tvalidation_0-rmse:134.08243\n",
      "[22600]\tvalidation_0-rmse:134.05060\n",
      "[22700]\tvalidation_0-rmse:134.00601\n",
      "[22800]\tvalidation_0-rmse:133.96585\n",
      "[22900]\tvalidation_0-rmse:133.93916\n",
      "[23000]\tvalidation_0-rmse:133.90881\n"
     ]
    },
    {
     "name": "stdout",
     "output_type": "stream",
     "text": [
      "[23100]\tvalidation_0-rmse:133.87175\n",
      "[23200]\tvalidation_0-rmse:133.83807\n",
      "[23300]\tvalidation_0-rmse:133.79547\n",
      "[23400]\tvalidation_0-rmse:133.76410\n",
      "[23500]\tvalidation_0-rmse:133.73537\n",
      "[23600]\tvalidation_0-rmse:133.70911\n",
      "[23700]\tvalidation_0-rmse:133.67703\n",
      "[23800]\tvalidation_0-rmse:133.65111\n",
      "[23900]\tvalidation_0-rmse:133.61540\n",
      "[24000]\tvalidation_0-rmse:133.58464\n",
      "[24100]\tvalidation_0-rmse:133.55749\n",
      "[24200]\tvalidation_0-rmse:133.53087\n",
      "[24300]\tvalidation_0-rmse:133.50205\n",
      "[24400]\tvalidation_0-rmse:133.46699\n",
      "[24500]\tvalidation_0-rmse:133.43631\n",
      "[24600]\tvalidation_0-rmse:133.41206\n",
      "[24700]\tvalidation_0-rmse:133.37209\n",
      "[24800]\tvalidation_0-rmse:133.32675\n",
      "[24900]\tvalidation_0-rmse:133.30106\n",
      "[25000]\tvalidation_0-rmse:133.27156\n",
      "[25100]\tvalidation_0-rmse:133.25044\n",
      "[25200]\tvalidation_0-rmse:133.22569\n",
      "[25300]\tvalidation_0-rmse:133.21133\n",
      "[25400]\tvalidation_0-rmse:133.18346\n",
      "[25500]\tvalidation_0-rmse:133.15013\n",
      "[25600]\tvalidation_0-rmse:133.13008\n",
      "[25700]\tvalidation_0-rmse:133.10861\n",
      "[25800]\tvalidation_0-rmse:133.07460\n",
      "[25900]\tvalidation_0-rmse:133.05183\n",
      "[26000]\tvalidation_0-rmse:133.02341\n",
      "[26100]\tvalidation_0-rmse:132.98827\n",
      "[26200]\tvalidation_0-rmse:132.95036\n",
      "[26300]\tvalidation_0-rmse:132.92267\n",
      "[26400]\tvalidation_0-rmse:132.88922\n",
      "[26500]\tvalidation_0-rmse:132.86816\n",
      "[26600]\tvalidation_0-rmse:132.85678\n",
      "[26700]\tvalidation_0-rmse:132.82555\n",
      "[26800]\tvalidation_0-rmse:132.80550\n",
      "[26900]\tvalidation_0-rmse:132.77766\n",
      "[27000]\tvalidation_0-rmse:132.75331\n",
      "[27100]\tvalidation_0-rmse:132.72206\n",
      "[27200]\tvalidation_0-rmse:132.69398\n",
      "[27300]\tvalidation_0-rmse:132.66916\n",
      "[27400]\tvalidation_0-rmse:132.64203\n",
      "[27500]\tvalidation_0-rmse:132.62118\n",
      "[27600]\tvalidation_0-rmse:132.59381\n",
      "[27700]\tvalidation_0-rmse:132.56818\n",
      "[27800]\tvalidation_0-rmse:132.54291\n",
      "[27900]\tvalidation_0-rmse:132.52341\n",
      "[28000]\tvalidation_0-rmse:132.49637\n",
      "[28100]\tvalidation_0-rmse:132.47697\n",
      "[28200]\tvalidation_0-rmse:132.44821\n",
      "[28300]\tvalidation_0-rmse:132.42163\n",
      "[28400]\tvalidation_0-rmse:132.40652\n",
      "[28500]\tvalidation_0-rmse:132.37874\n",
      "[28600]\tvalidation_0-rmse:132.35121\n",
      "[28700]\tvalidation_0-rmse:132.32799\n",
      "[28800]\tvalidation_0-rmse:132.29356\n",
      "[28900]\tvalidation_0-rmse:132.27727\n",
      "[29000]\tvalidation_0-rmse:132.24960\n",
      "[29100]\tvalidation_0-rmse:132.22446\n",
      "[29200]\tvalidation_0-rmse:132.19661\n",
      "[29300]\tvalidation_0-rmse:132.17285\n",
      "[29400]\tvalidation_0-rmse:132.15941\n",
      "[29500]\tvalidation_0-rmse:132.12972\n",
      "[29600]\tvalidation_0-rmse:132.10829\n",
      "[29700]\tvalidation_0-rmse:132.08363\n",
      "[29800]\tvalidation_0-rmse:132.06711\n",
      "[29900]\tvalidation_0-rmse:132.05530\n",
      "[30000]\tvalidation_0-rmse:132.02820\n",
      "[30100]\tvalidation_0-rmse:132.01440\n",
      "[30200]\tvalidation_0-rmse:132.00006\n",
      "[30300]\tvalidation_0-rmse:131.98073\n",
      "[30400]\tvalidation_0-rmse:131.95577\n",
      "[30500]\tvalidation_0-rmse:131.93381\n",
      "[30600]\tvalidation_0-rmse:131.90929\n",
      "[30700]\tvalidation_0-rmse:131.89269\n",
      "[30800]\tvalidation_0-rmse:131.86763\n",
      "[30900]\tvalidation_0-rmse:131.84073\n",
      "[31000]\tvalidation_0-rmse:131.82494\n",
      "[31100]\tvalidation_0-rmse:131.81088\n",
      "[31200]\tvalidation_0-rmse:131.78693\n",
      "[31300]\tvalidation_0-rmse:131.76868\n",
      "[31400]\tvalidation_0-rmse:131.74942\n",
      "[31500]\tvalidation_0-rmse:131.73570\n",
      "[31600]\tvalidation_0-rmse:131.71803\n",
      "[31700]\tvalidation_0-rmse:131.69879\n",
      "[31800]\tvalidation_0-rmse:131.68069\n",
      "[31900]\tvalidation_0-rmse:131.66385\n",
      "[32000]\tvalidation_0-rmse:131.64821\n",
      "[32100]\tvalidation_0-rmse:131.62520\n",
      "[32200]\tvalidation_0-rmse:131.59998\n",
      "[32300]\tvalidation_0-rmse:131.57628\n",
      "[32400]\tvalidation_0-rmse:131.55856\n",
      "[32500]\tvalidation_0-rmse:131.53358\n",
      "[32600]\tvalidation_0-rmse:131.51178\n",
      "[32700]\tvalidation_0-rmse:131.49600\n",
      "[32800]\tvalidation_0-rmse:131.47836\n",
      "[32900]\tvalidation_0-rmse:131.46524\n",
      "[33000]\tvalidation_0-rmse:131.44437\n",
      "[33100]\tvalidation_0-rmse:131.42935\n",
      "[33200]\tvalidation_0-rmse:131.41161\n",
      "[33300]\tvalidation_0-rmse:131.39935\n",
      "[33400]\tvalidation_0-rmse:131.37280\n",
      "[33500]\tvalidation_0-rmse:131.35877\n",
      "[33600]\tvalidation_0-rmse:131.34067\n",
      "[33700]\tvalidation_0-rmse:131.32468\n",
      "[33800]\tvalidation_0-rmse:131.31082\n",
      "[33900]\tvalidation_0-rmse:131.29652\n",
      "[34000]\tvalidation_0-rmse:131.27989\n",
      "[34100]\tvalidation_0-rmse:131.26393\n",
      "[34200]\tvalidation_0-rmse:131.25281\n",
      "[34300]\tvalidation_0-rmse:131.23492\n",
      "[34400]\tvalidation_0-rmse:131.21983\n",
      "[34500]\tvalidation_0-rmse:131.20131\n",
      "[34600]\tvalidation_0-rmse:131.18932\n",
      "[34700]\tvalidation_0-rmse:131.17194\n",
      "[34800]\tvalidation_0-rmse:131.15402\n",
      "[34900]\tvalidation_0-rmse:131.13297\n",
      "[35000]\tvalidation_0-rmse:131.11829\n",
      "[35100]\tvalidation_0-rmse:131.10355\n",
      "[35200]\tvalidation_0-rmse:131.09380\n",
      "[35300]\tvalidation_0-rmse:131.07816\n",
      "[35400]\tvalidation_0-rmse:131.05997\n",
      "[35500]\tvalidation_0-rmse:131.04668\n",
      "[35600]\tvalidation_0-rmse:131.03441\n",
      "[35700]\tvalidation_0-rmse:131.01028\n",
      "[35800]\tvalidation_0-rmse:130.99480\n",
      "[35900]\tvalidation_0-rmse:130.98322\n",
      "[36000]\tvalidation_0-rmse:130.96957\n",
      "[36100]\tvalidation_0-rmse:130.95198\n",
      "[36200]\tvalidation_0-rmse:130.93796\n",
      "[36300]\tvalidation_0-rmse:130.93375\n",
      "[36400]\tvalidation_0-rmse:130.92575\n",
      "[36500]\tvalidation_0-rmse:130.91655\n",
      "[36600]\tvalidation_0-rmse:130.90518\n",
      "[36700]\tvalidation_0-rmse:130.88480\n",
      "[36800]\tvalidation_0-rmse:130.87112\n",
      "[36900]\tvalidation_0-rmse:130.85730\n",
      "[37000]\tvalidation_0-rmse:130.83945\n",
      "[37100]\tvalidation_0-rmse:130.82857\n",
      "[37200]\tvalidation_0-rmse:130.81125\n",
      "[37300]\tvalidation_0-rmse:130.79773\n",
      "[37400]\tvalidation_0-rmse:130.78487\n",
      "[37500]\tvalidation_0-rmse:130.76770\n",
      "[37600]\tvalidation_0-rmse:130.75291\n",
      "[37700]\tvalidation_0-rmse:130.73795\n",
      "[37800]\tvalidation_0-rmse:130.72897\n",
      "[37900]\tvalidation_0-rmse:130.71310\n",
      "[38000]\tvalidation_0-rmse:130.70366\n",
      "[38100]\tvalidation_0-rmse:130.69334\n",
      "[38200]\tvalidation_0-rmse:130.67920\n",
      "[38300]\tvalidation_0-rmse:130.67061\n",
      "[38400]\tvalidation_0-rmse:130.66093\n",
      "[38500]\tvalidation_0-rmse:130.64554\n",
      "[38600]\tvalidation_0-rmse:130.63843\n",
      "[38700]\tvalidation_0-rmse:130.63736\n",
      "[38800]\tvalidation_0-rmse:130.62553\n",
      "[38900]\tvalidation_0-rmse:130.61389\n",
      "[39000]\tvalidation_0-rmse:130.60143\n",
      "[39100]\tvalidation_0-rmse:130.58315\n",
      "[39200]\tvalidation_0-rmse:130.56528\n",
      "[39300]\tvalidation_0-rmse:130.55003\n",
      "[39400]\tvalidation_0-rmse:130.53891\n",
      "[39500]\tvalidation_0-rmse:130.52249\n",
      "[39600]\tvalidation_0-rmse:130.50977\n",
      "[39700]\tvalidation_0-rmse:130.49869\n",
      "[39800]\tvalidation_0-rmse:130.49474\n",
      "[39900]\tvalidation_0-rmse:130.48256\n",
      "[40000]\tvalidation_0-rmse:130.47144\n",
      "[40100]\tvalidation_0-rmse:130.45480\n",
      "[40200]\tvalidation_0-rmse:130.43915\n",
      "[40300]\tvalidation_0-rmse:130.42981\n",
      "[40400]\tvalidation_0-rmse:130.41478\n",
      "[40500]\tvalidation_0-rmse:130.39806\n",
      "[40600]\tvalidation_0-rmse:130.39075\n",
      "[40700]\tvalidation_0-rmse:130.37447\n",
      "[40800]\tvalidation_0-rmse:130.35733\n",
      "[40900]\tvalidation_0-rmse:130.34984\n",
      "[41000]\tvalidation_0-rmse:130.33426\n",
      "[41100]\tvalidation_0-rmse:130.32326\n",
      "[41200]\tvalidation_0-rmse:130.31537\n",
      "[41300]\tvalidation_0-rmse:130.29813\n",
      "[41400]\tvalidation_0-rmse:130.28639\n",
      "[41500]\tvalidation_0-rmse:130.28139\n",
      "[41600]\tvalidation_0-rmse:130.27045\n",
      "[41700]\tvalidation_0-rmse:130.25775\n",
      "[41800]\tvalidation_0-rmse:130.24434\n",
      "[41900]\tvalidation_0-rmse:130.23292\n",
      "[42000]\tvalidation_0-rmse:130.21992\n",
      "[42100]\tvalidation_0-rmse:130.20798\n",
      "[42200]\tvalidation_0-rmse:130.19640\n",
      "[42300]\tvalidation_0-rmse:130.19055\n",
      "[42400]\tvalidation_0-rmse:130.17299\n",
      "[42500]\tvalidation_0-rmse:130.16281\n",
      "[42600]\tvalidation_0-rmse:130.15149\n",
      "[42700]\tvalidation_0-rmse:130.13170\n",
      "[42800]\tvalidation_0-rmse:130.12022\n",
      "[42900]\tvalidation_0-rmse:130.10452\n",
      "[43000]\tvalidation_0-rmse:130.09683\n",
      "[43100]\tvalidation_0-rmse:130.08607\n",
      "[43200]\tvalidation_0-rmse:130.07974\n",
      "[43300]\tvalidation_0-rmse:130.07031\n",
      "[43400]\tvalidation_0-rmse:130.05572\n",
      "[43500]\tvalidation_0-rmse:130.04713\n",
      "[43600]\tvalidation_0-rmse:130.03856\n",
      "[43700]\tvalidation_0-rmse:130.02800\n",
      "[43800]\tvalidation_0-rmse:130.02151\n",
      "[43900]\tvalidation_0-rmse:130.00476\n",
      "[44000]\tvalidation_0-rmse:129.99553\n",
      "[44100]\tvalidation_0-rmse:129.99379\n",
      "[44200]\tvalidation_0-rmse:129.97826\n",
      "[44300]\tvalidation_0-rmse:129.97080\n",
      "[44400]\tvalidation_0-rmse:129.96326\n",
      "[44500]\tvalidation_0-rmse:129.95363\n",
      "[44600]\tvalidation_0-rmse:129.94597\n",
      "[44700]\tvalidation_0-rmse:129.92986\n",
      "[44800]\tvalidation_0-rmse:129.92248\n",
      "[44900]\tvalidation_0-rmse:129.90683\n",
      "[45000]\tvalidation_0-rmse:129.90140\n",
      "[45100]\tvalidation_0-rmse:129.89558\n",
      "[45200]\tvalidation_0-rmse:129.88689\n",
      "[45300]\tvalidation_0-rmse:129.87872\n",
      "[45400]\tvalidation_0-rmse:129.87137\n",
      "[45500]\tvalidation_0-rmse:129.86365\n",
      "[45600]\tvalidation_0-rmse:129.85396\n",
      "[45700]\tvalidation_0-rmse:129.84038\n",
      "[45800]\tvalidation_0-rmse:129.82698\n"
     ]
    },
    {
     "name": "stdout",
     "output_type": "stream",
     "text": [
      "[45900]\tvalidation_0-rmse:129.80986\n",
      "[46000]\tvalidation_0-rmse:129.80359\n",
      "[46100]\tvalidation_0-rmse:129.79039\n",
      "[46200]\tvalidation_0-rmse:129.77853\n",
      "[46300]\tvalidation_0-rmse:129.76550\n",
      "[46400]\tvalidation_0-rmse:129.75465\n",
      "[46500]\tvalidation_0-rmse:129.75046\n",
      "[46600]\tvalidation_0-rmse:129.73621\n",
      "[46700]\tvalidation_0-rmse:129.72830\n",
      "[46800]\tvalidation_0-rmse:129.71759\n",
      "[46900]\tvalidation_0-rmse:129.71066\n",
      "[47000]\tvalidation_0-rmse:129.70122\n",
      "[47100]\tvalidation_0-rmse:129.68532\n",
      "[47200]\tvalidation_0-rmse:129.67137\n",
      "[47300]\tvalidation_0-rmse:129.66071\n",
      "[47400]\tvalidation_0-rmse:129.65390\n",
      "[47500]\tvalidation_0-rmse:129.64191\n",
      "[47600]\tvalidation_0-rmse:129.63667\n",
      "[47700]\tvalidation_0-rmse:129.62973\n",
      "[47800]\tvalidation_0-rmse:129.61981\n",
      "[47900]\tvalidation_0-rmse:129.60414\n",
      "[48000]\tvalidation_0-rmse:129.59276\n",
      "[48100]\tvalidation_0-rmse:129.58962\n",
      "[48200]\tvalidation_0-rmse:129.57378\n",
      "[48300]\tvalidation_0-rmse:129.56818\n",
      "[48400]\tvalidation_0-rmse:129.56253\n",
      "[48500]\tvalidation_0-rmse:129.55574\n",
      "[48600]\tvalidation_0-rmse:129.54688\n",
      "[48700]\tvalidation_0-rmse:129.53278\n",
      "[48800]\tvalidation_0-rmse:129.52681\n",
      "[48900]\tvalidation_0-rmse:129.51143\n",
      "[49000]\tvalidation_0-rmse:129.49703\n",
      "[49100]\tvalidation_0-rmse:129.49139\n",
      "[49200]\tvalidation_0-rmse:129.48227\n",
      "[49300]\tvalidation_0-rmse:129.47012\n",
      "[49400]\tvalidation_0-rmse:129.45914\n",
      "[49500]\tvalidation_0-rmse:129.45276\n",
      "[49600]\tvalidation_0-rmse:129.44115\n",
      "[49700]\tvalidation_0-rmse:129.42737\n",
      "[49800]\tvalidation_0-rmse:129.42120\n",
      "[49900]\tvalidation_0-rmse:129.41374\n",
      "[49999]\tvalidation_0-rmse:129.40559\n"
     ]
    },
    {
     "data": {
      "text/plain": [
       "XGBRegressor(base_score=0.5, booster='gbtree', colsample_bylevel=1,\n",
       "             colsample_bynode=1, colsample_bytree=1, eval_metric='rmse',\n",
       "             gamma=0.5, gpu_id=-1, importance_type='gain',\n",
       "             interaction_constraints='', learning_rate=0.01, max_delta_step=0,\n",
       "             max_depth=5, min_child_weight=1, missing=nan,\n",
       "             monotone_constraints='()', n_estimators=50000, n_jobs=8,\n",
       "             num_parallel_tree=1, random_state=0, reg_alpha=0, reg_lambda=1,\n",
       "             scale_pos_weight=1, subsample=0.8, tree_method='exact',\n",
       "             validate_parameters=1, verbosity=None)"
      ]
     },
     "execution_count": 52,
     "metadata": {},
     "output_type": "execute_result"
    }
   ],
   "source": [
    "from xgboost import XGBRegressor\n",
    "model_xgb1 = XGBRegressor(\n",
    " learning_rate = 0.01,\n",
    " eval_metric ='rmse',\n",
    "    n_estimators = 50000,\n",
    "    max_depth = 5,\n",
    "    subsample = 0.8,\n",
    "    colsample_bytree = 1,\n",
    "    gamma = 0.5    \n",
    " )\n",
    "\n",
    "\n",
    "model_xgb1.fit(X_train, y_train, eval_metric='rmse', \n",
    "          eval_set=[(X_test, y_test)], early_stopping_rounds=500, verbose=100)"
   ]
  },
  {
   "cell_type": "code",
   "execution_count": 55,
   "metadata": {},
   "outputs": [
    {
     "data": {
      "text/plain": [
       "49989"
      ]
     },
     "execution_count": 55,
     "metadata": {},
     "output_type": "execute_result"
    }
   ],
   "source": [
    "best_i = (model_xgb1.get_booster().best_iteration)\n",
    "best_i"
   ]
  },
  {
   "cell_type": "code",
   "execution_count": 56,
   "metadata": {},
   "outputs": [],
   "source": [
    "xgb_model = XGBRegressor(\n",
    "     \n",
    "     learning_rate = 0.01,\n",
    "   \n",
    "    n_estimators = best_i,\n",
    "    max_depth = 5,\n",
    "    subsample = 0.8,\n",
    "    colsample_bytree = 1,\n",
    "    gamma = 0.5)"
   ]
  },
  {
   "cell_type": "code",
   "execution_count": 57,
   "metadata": {},
   "outputs": [
    {
     "data": {
      "text/plain": [
       "XGBRegressor(base_score=0.5, booster='gbtree', colsample_bylevel=1,\n",
       "             colsample_bynode=1, colsample_bytree=1, gamma=0.5, gpu_id=-1,\n",
       "             importance_type='gain', interaction_constraints='',\n",
       "             learning_rate=0.01, max_delta_step=0, max_depth=5,\n",
       "             min_child_weight=1, missing=nan, monotone_constraints='()',\n",
       "             n_estimators=49989, n_jobs=8, num_parallel_tree=1, random_state=0,\n",
       "             reg_alpha=0, reg_lambda=1, scale_pos_weight=1, subsample=0.8,\n",
       "             tree_method='exact', validate_parameters=1, verbosity=None)"
      ]
     },
     "execution_count": 57,
     "metadata": {},
     "output_type": "execute_result"
    }
   ],
   "source": [
    "xgb_model.fit(X_train, y_train)"
   ]
  },
  {
   "cell_type": "code",
   "execution_count": 59,
   "metadata": {
    "scrolled": true
   },
   "outputs": [
    {
     "name": "stdout",
     "output_type": "stream",
     "text": [
      "r2 value for xgb_model base model train 0.9516804312335111\n",
      "r2 value for xgb_model base model test 0.8928266135800875\n"
     ]
    }
   ],
   "source": [
    "print('r2 value for xgb_model base model train',r2_score(y_train,xgb_model.predict(X_train)))\n",
    "print('r2 value for xgb_model base model test',r2_score(y_test,xgb_model.predict(X_test)))"
   ]
  },
  {
   "cell_type": "code",
   "execution_count": null,
   "metadata": {},
   "outputs": [],
   "source": []
  },
  {
   "cell_type": "code",
   "execution_count": null,
   "metadata": {},
   "outputs": [],
   "source": []
  },
  {
   "cell_type": "code",
   "execution_count": null,
   "metadata": {},
   "outputs": [],
   "source": []
  },
  {
   "cell_type": "code",
   "execution_count": null,
   "metadata": {},
   "outputs": [],
   "source": []
  },
  {
   "cell_type": "code",
   "execution_count": null,
   "metadata": {},
   "outputs": [],
   "source": []
  },
  {
   "cell_type": "code",
   "execution_count": null,
   "metadata": {},
   "outputs": [],
   "source": []
  },
  {
   "cell_type": "code",
   "execution_count": null,
   "metadata": {},
   "outputs": [],
   "source": []
  },
  {
   "cell_type": "code",
   "execution_count": null,
   "metadata": {},
   "outputs": [],
   "source": []
  },
  {
   "cell_type": "code",
   "execution_count": null,
   "metadata": {},
   "outputs": [],
   "source": []
  },
  {
   "cell_type": "code",
   "execution_count": null,
   "metadata": {},
   "outputs": [],
   "source": []
  },
  {
   "cell_type": "code",
   "execution_count": 51,
   "metadata": {},
   "outputs": [],
   "source": [
    "\n",
    "# Number of trees in random forest\n",
    "n_estimators = [i for i in range(10,100,10)]\n",
    "\n",
    "# Number of features to consider at every split\n",
    "max_features = ['auto', 'sqrt','log2']\n",
    "\n",
    "# Maximum number of levels in tree\n",
    "max_depth = [i for i in range(10,100,10)]\n",
    "\n",
    "# Minimum number of samples required to split a node\n",
    "min_samples_split = [i for i in range(10,100,10)]\n",
    "\n",
    "# Minimum number of samples required at each leaf node\n",
    "min_samples_leaf = [1, 2, 4, 6, 8]\n",
    "\n",
    "grid={'n_estimators': n_estimators,\n",
    "               'max_features': max_features,\n",
    "               'max_depth': max_depth,\n",
    "               'min_samples_split': min_samples_split,\n",
    "               'min_samples_leaf': min_samples_leaf,\n",
    "              }"
   ]
  },
  {
   "cell_type": "code",
   "execution_count": null,
   "metadata": {},
   "outputs": [],
   "source": [
    "#ridge=Ridge()\n",
    "parameters={'alpha':[i for i in range(50,100)]}\n",
    "rf_regressor=GridSearchCV(estimator=model_rf,param_grid=grid,scoring='r2',cv=3) \n",
    "rf_regressor.fit(X_train,y_train)"
   ]
  },
  {
   "cell_type": "code",
   "execution_count": 80,
   "metadata": {},
   "outputs": [
    {
     "name": "stdout",
     "output_type": "stream",
     "text": [
      "{'alpha': 89}\n",
      "0.4145149201649936\n"
     ]
    }
   ],
   "source": [
    "print(rf_regressor.best_params_)\n",
    "print(rf_regressor.best_score_)"
   ]
  },
  {
   "cell_type": "code",
   "execution_count": 71,
   "metadata": {},
   "outputs": [],
   "source": [
    "ridge=Ridge(alpha=100)"
   ]
  },
  {
   "cell_type": "code",
   "execution_count": 72,
   "metadata": {},
   "outputs": [
    {
     "data": {
      "text/plain": [
       "Ridge(alpha=100)"
      ]
     },
     "execution_count": 72,
     "metadata": {},
     "output_type": "execute_result"
    }
   ],
   "source": [
    "ridge.fit(X_train,y_train)"
   ]
  },
  {
   "cell_type": "code",
   "execution_count": 73,
   "metadata": {},
   "outputs": [
    {
     "name": "stdout",
     "output_type": "stream",
     "text": [
      "0.413575298929175\n"
     ]
    }
   ],
   "source": [
    "print(r2_score(y_train,ridge.predict(X_train)))"
   ]
  },
  {
   "cell_type": "code",
   "execution_count": 74,
   "metadata": {},
   "outputs": [
    {
     "name": "stdout",
     "output_type": "stream",
     "text": [
      "0.4109537726826522\n"
     ]
    }
   ],
   "source": [
    "print(r2_score(y_test,ridge.predict(X_test)))"
   ]
  },
  {
   "cell_type": "code",
   "execution_count": null,
   "metadata": {},
   "outputs": [],
   "source": []
  },
  {
   "cell_type": "code",
   "execution_count": null,
   "metadata": {},
   "outputs": [],
   "source": []
  },
  {
   "cell_type": "code",
   "execution_count": null,
   "metadata": {},
   "outputs": [],
   "source": []
  },
  {
   "cell_type": "code",
   "execution_count": null,
   "metadata": {},
   "outputs": [],
   "source": []
  },
  {
   "cell_type": "code",
   "execution_count": null,
   "metadata": {},
   "outputs": [],
   "source": []
  },
  {
   "cell_type": "code",
   "execution_count": null,
   "metadata": {},
   "outputs": [],
   "source": []
  },
  {
   "cell_type": "code",
   "execution_count": null,
   "metadata": {},
   "outputs": [],
   "source": []
  },
  {
   "cell_type": "code",
   "execution_count": null,
   "metadata": {},
   "outputs": [],
   "source": []
  },
  {
   "cell_type": "code",
   "execution_count": null,
   "metadata": {},
   "outputs": [],
   "source": []
  },
  {
   "cell_type": "code",
   "execution_count": null,
   "metadata": {},
   "outputs": [],
   "source": []
  },
  {
   "cell_type": "code",
   "execution_count": null,
   "metadata": {},
   "outputs": [],
   "source": []
  },
  {
   "cell_type": "code",
   "execution_count": null,
   "metadata": {},
   "outputs": [],
   "source": []
  },
  {
   "cell_type": "code",
   "execution_count": null,
   "metadata": {},
   "outputs": [],
   "source": []
  },
  {
   "cell_type": "code",
   "execution_count": null,
   "metadata": {},
   "outputs": [],
   "source": []
  },
  {
   "cell_type": "code",
   "execution_count": null,
   "metadata": {},
   "outputs": [],
   "source": []
  },
  {
   "cell_type": "code",
   "execution_count": null,
   "metadata": {},
   "outputs": [],
   "source": []
  },
  {
   "cell_type": "code",
   "execution_count": null,
   "metadata": {},
   "outputs": [],
   "source": []
  },
  {
   "cell_type": "code",
   "execution_count": null,
   "metadata": {},
   "outputs": [],
   "source": []
  },
  {
   "cell_type": "code",
   "execution_count": null,
   "metadata": {},
   "outputs": [],
   "source": []
  },
  {
   "cell_type": "code",
   "execution_count": null,
   "metadata": {},
   "outputs": [],
   "source": []
  },
  {
   "cell_type": "code",
   "execution_count": null,
   "metadata": {},
   "outputs": [],
   "source": []
  },
  {
   "cell_type": "code",
   "execution_count": null,
   "metadata": {},
   "outputs": [],
   "source": []
  },
  {
   "cell_type": "code",
   "execution_count": null,
   "metadata": {},
   "outputs": [],
   "source": []
  },
  {
   "cell_type": "code",
   "execution_count": null,
   "metadata": {},
   "outputs": [],
   "source": []
  },
  {
   "cell_type": "code",
   "execution_count": null,
   "metadata": {},
   "outputs": [],
   "source": []
  },
  {
   "cell_type": "code",
   "execution_count": null,
   "metadata": {},
   "outputs": [],
   "source": []
  },
  {
   "cell_type": "code",
   "execution_count": null,
   "metadata": {},
   "outputs": [],
   "source": []
  },
  {
   "cell_type": "code",
   "execution_count": null,
   "metadata": {},
   "outputs": [],
   "source": []
  },
  {
   "cell_type": "code",
   "execution_count": null,
   "metadata": {},
   "outputs": [],
   "source": [
    "from sklearn.linear_model import Lasso \n",
    "from sklearn.model_selection import GridSearchCV lasso=Lasso() \n",
    "parameters={'alpha':[1e-15, 1e-10, 1e-8, 1e-3, 1e-2, 1, 5, 10, 20, 30, 35, 40, 45, 50, 55, 100]}\n",
    "lasso_regressor=GridSearchCV(lasso,parameters,scoring='r2_score',cv=5)  lasso_regressor.fit(X,y)\n",
    "print(lasso_regressor.best_params_) print(lasso_regressor.best_score_)"
   ]
  },
  {
   "cell_type": "code",
   "execution_count": null,
   "metadata": {},
   "outputs": [],
   "source": []
  },
  {
   "cell_type": "code",
   "execution_count": null,
   "metadata": {},
   "outputs": [],
   "source": []
  },
  {
   "cell_type": "code",
   "execution_count": null,
   "metadata": {},
   "outputs": [],
   "source": []
  },
  {
   "cell_type": "code",
   "execution_count": null,
   "metadata": {},
   "outputs": [],
   "source": []
  },
  {
   "cell_type": "code",
   "execution_count": null,
   "metadata": {},
   "outputs": [],
   "source": []
  },
  {
   "cell_type": "code",
   "execution_count": 57,
   "metadata": {},
   "outputs": [
    {
     "name": "stdout",
     "output_type": "stream",
     "text": [
      "{'n_estimators': [100, 200, 300, 400, 500, 600, 700, 800, 900, 1000], 'max_features': ['auto', 'sqrt', 'log2'], 'max_depth': [10, 64, 118, 173, 227, 282, 336, 391, 445, 500], 'min_samples_split': [2, 5, 15, 30], 'min_samples_leaf': [1, 2, 4, 6, 8]}\n"
     ]
    }
   ],
   "source": [
    "import numpy as np\n",
    "from sklearn.model_selection import RandomizedSearchCV\n",
    "\n",
    "# Number of trees in random forest\n",
    "n_estimators = [int(x) for x in np.linspace(start = 100, stop = 1000, num = 10)]\n",
    "\n",
    "# Number of features to consider at every split\n",
    "max_features = ['auto', 'sqrt','log2']\n",
    "\n",
    "# Maximum number of levels in tree\n",
    "max_depth = [int(x) for x in np.linspace(10, 500,10)]\n",
    "\n",
    "# Minimum number of samples required to split a node\n",
    "min_samples_split = [2, 5, 15, 30]\n",
    "\n",
    "# Minimum number of samples required at each leaf node\n",
    "min_samples_leaf = [1, 2, 4, 6, 8]\n",
    "\n",
    "# Create the random grid\n",
    "random_grid = {'n_estimators': n_estimators,\n",
    "               'max_features': max_features,\n",
    "               'max_depth': max_depth,\n",
    "               'min_samples_split': min_samples_split,\n",
    "               'min_samples_leaf': min_samples_leaf,\n",
    "              }\n",
    "print(random_grid)"
   ]
  },
  {
   "cell_type": "code",
   "execution_count": 58,
   "metadata": {
    "scrolled": false
   },
   "outputs": [
    {
     "ename": "MemoryError",
     "evalue": "Unable to allocate 832. KiB for an array with shape (106526, 1, 1) and data type float64",
     "output_type": "error",
     "traceback": [
      "\u001b[1;31m---------------------------------------------------------------------------\u001b[0m",
      "\u001b[1;31m_RemoteTraceback\u001b[0m                          Traceback (most recent call last)",
      "\u001b[1;31m_RemoteTraceback\u001b[0m: \n\"\"\"\nTraceback (most recent call last):\n  File \"C:\\ProgramData\\Anaconda3\\lib\\site-packages\\joblib\\externals\\loky\\process_executor.py\", line 431, in _process_worker\n    r = call_item()\n  File \"C:\\ProgramData\\Anaconda3\\lib\\site-packages\\joblib\\externals\\loky\\process_executor.py\", line 285, in __call__\n    return self.fn(*self.args, **self.kwargs)\n  File \"C:\\ProgramData\\Anaconda3\\lib\\site-packages\\joblib\\_parallel_backends.py\", line 595, in __call__\n    return self.func(*args, **kwargs)\n  File \"C:\\ProgramData\\Anaconda3\\lib\\site-packages\\joblib\\parallel.py\", line 262, in __call__\n    return [func(*args, **kwargs)\n  File \"C:\\ProgramData\\Anaconda3\\lib\\site-packages\\joblib\\parallel.py\", line 262, in <listcomp>\n    return [func(*args, **kwargs)\n  File \"C:\\ProgramData\\Anaconda3\\lib\\site-packages\\sklearn\\model_selection\\_validation.py\", line 560, in _fit_and_score\n    test_scores = _score(estimator, X_test, y_test, scorer)\n  File \"C:\\ProgramData\\Anaconda3\\lib\\site-packages\\sklearn\\model_selection\\_validation.py\", line 607, in _score\n    scores = scorer(estimator, X_test, y_test)\n  File \"C:\\ProgramData\\Anaconda3\\lib\\site-packages\\sklearn\\metrics\\_scorer.py\", line 90, in __call__\n    score = scorer(estimator, *args, **kwargs)\n  File \"C:\\ProgramData\\Anaconda3\\lib\\site-packages\\sklearn\\metrics\\_scorer.py\", line 372, in _passthrough_scorer\n    return estimator.score(*args, **kwargs)\n  File \"C:\\ProgramData\\Anaconda3\\lib\\site-packages\\sklearn\\base.py\", line 551, in score\n    y_pred = self.predict(X)\n  File \"C:\\ProgramData\\Anaconda3\\lib\\site-packages\\sklearn\\ensemble\\_forest.py\", line 796, in predict\n    Parallel(n_jobs=n_jobs, verbose=self.verbose,\n  File \"C:\\ProgramData\\Anaconda3\\lib\\site-packages\\joblib\\parallel.py\", line 1051, in __call__\n    while self.dispatch_one_batch(iterator):\n  File \"C:\\ProgramData\\Anaconda3\\lib\\site-packages\\joblib\\parallel.py\", line 866, in dispatch_one_batch\n    self._dispatch(tasks)\n  File \"C:\\ProgramData\\Anaconda3\\lib\\site-packages\\joblib\\parallel.py\", line 784, in _dispatch\n    job = self._backend.apply_async(batch, callback=cb)\n  File \"C:\\ProgramData\\Anaconda3\\lib\\site-packages\\joblib\\_parallel_backends.py\", line 208, in apply_async\n    result = ImmediateResult(func)\n  File \"C:\\ProgramData\\Anaconda3\\lib\\site-packages\\joblib\\_parallel_backends.py\", line 572, in __init__\n    self.results = batch()\n  File \"C:\\ProgramData\\Anaconda3\\lib\\site-packages\\joblib\\parallel.py\", line 262, in __call__\n    return [func(*args, **kwargs)\n  File \"C:\\ProgramData\\Anaconda3\\lib\\site-packages\\joblib\\parallel.py\", line 262, in <listcomp>\n    return [func(*args, **kwargs)\n  File \"C:\\ProgramData\\Anaconda3\\lib\\site-packages\\sklearn\\ensemble\\_forest.py\", line 466, in _accumulate_prediction\n    prediction = predict(X, check_input=False)\n  File \"C:\\ProgramData\\Anaconda3\\lib\\site-packages\\sklearn\\tree\\_classes.py\", line 428, in predict\n    proba = self.tree_.predict(X)\n  File \"sklearn\\tree\\_tree.pyx\", line 768, in sklearn.tree._tree.Tree.predict\n  File \"sklearn\\tree\\_tree.pyx\", line 770, in sklearn.tree._tree.Tree.predict\nMemoryError: Unable to allocate 832. KiB for an array with shape (106526, 1, 1) and data type float64\n\"\"\"",
      "\nThe above exception was the direct cause of the following exception:\n",
      "\u001b[1;31mMemoryError\u001b[0m                               Traceback (most recent call last)",
      "\u001b[1;32m<ipython-input-58-5eda746866b8>\u001b[0m in \u001b[0;36m<module>\u001b[1;34m\u001b[0m\n\u001b[0;32m      2\u001b[0m                                random_state=1,n_jobs=-1)\n\u001b[0;32m      3\u001b[0m \u001b[1;31m### fit the randomized model\u001b[0m\u001b[1;33m\u001b[0m\u001b[1;33m\u001b[0m\u001b[1;33m\u001b[0m\u001b[0m\n\u001b[1;32m----> 4\u001b[1;33m \u001b[0mrf_randomcv\u001b[0m\u001b[1;33m.\u001b[0m\u001b[0mfit\u001b[0m\u001b[1;33m(\u001b[0m\u001b[0mX_train\u001b[0m\u001b[1;33m,\u001b[0m\u001b[0my_train\u001b[0m\u001b[1;33m)\u001b[0m\u001b[1;33m\u001b[0m\u001b[1;33m\u001b[0m\u001b[0m\n\u001b[0m",
      "\u001b[1;32mC:\\ProgramData\\Anaconda3\\lib\\site-packages\\sklearn\\utils\\validation.py\u001b[0m in \u001b[0;36minner_f\u001b[1;34m(*args, **kwargs)\u001b[0m\n\u001b[0;32m     70\u001b[0m                           FutureWarning)\n\u001b[0;32m     71\u001b[0m         \u001b[0mkwargs\u001b[0m\u001b[1;33m.\u001b[0m\u001b[0mupdate\u001b[0m\u001b[1;33m(\u001b[0m\u001b[1;33m{\u001b[0m\u001b[0mk\u001b[0m\u001b[1;33m:\u001b[0m \u001b[0marg\u001b[0m \u001b[1;32mfor\u001b[0m \u001b[0mk\u001b[0m\u001b[1;33m,\u001b[0m \u001b[0marg\u001b[0m \u001b[1;32min\u001b[0m \u001b[0mzip\u001b[0m\u001b[1;33m(\u001b[0m\u001b[0msig\u001b[0m\u001b[1;33m.\u001b[0m\u001b[0mparameters\u001b[0m\u001b[1;33m,\u001b[0m \u001b[0margs\u001b[0m\u001b[1;33m)\u001b[0m\u001b[1;33m}\u001b[0m\u001b[1;33m)\u001b[0m\u001b[1;33m\u001b[0m\u001b[1;33m\u001b[0m\u001b[0m\n\u001b[1;32m---> 72\u001b[1;33m         \u001b[1;32mreturn\u001b[0m \u001b[0mf\u001b[0m\u001b[1;33m(\u001b[0m\u001b[1;33m**\u001b[0m\u001b[0mkwargs\u001b[0m\u001b[1;33m)\u001b[0m\u001b[1;33m\u001b[0m\u001b[1;33m\u001b[0m\u001b[0m\n\u001b[0m\u001b[0;32m     73\u001b[0m     \u001b[1;32mreturn\u001b[0m \u001b[0minner_f\u001b[0m\u001b[1;33m\u001b[0m\u001b[1;33m\u001b[0m\u001b[0m\n\u001b[0;32m     74\u001b[0m \u001b[1;33m\u001b[0m\u001b[0m\n",
      "\u001b[1;32mC:\\ProgramData\\Anaconda3\\lib\\site-packages\\sklearn\\model_selection\\_search.py\u001b[0m in \u001b[0;36mfit\u001b[1;34m(self, X, y, groups, **fit_params)\u001b[0m\n\u001b[0;32m    734\u001b[0m                 \u001b[1;32mreturn\u001b[0m \u001b[0mresults\u001b[0m\u001b[1;33m\u001b[0m\u001b[1;33m\u001b[0m\u001b[0m\n\u001b[0;32m    735\u001b[0m \u001b[1;33m\u001b[0m\u001b[0m\n\u001b[1;32m--> 736\u001b[1;33m             \u001b[0mself\u001b[0m\u001b[1;33m.\u001b[0m\u001b[0m_run_search\u001b[0m\u001b[1;33m(\u001b[0m\u001b[0mevaluate_candidates\u001b[0m\u001b[1;33m)\u001b[0m\u001b[1;33m\u001b[0m\u001b[1;33m\u001b[0m\u001b[0m\n\u001b[0m\u001b[0;32m    737\u001b[0m \u001b[1;33m\u001b[0m\u001b[0m\n\u001b[0;32m    738\u001b[0m         \u001b[1;31m# For multi-metric evaluation, store the best_index_, best_params_ and\u001b[0m\u001b[1;33m\u001b[0m\u001b[1;33m\u001b[0m\u001b[1;33m\u001b[0m\u001b[0m\n",
      "\u001b[1;32mC:\\ProgramData\\Anaconda3\\lib\\site-packages\\sklearn\\model_selection\\_search.py\u001b[0m in \u001b[0;36m_run_search\u001b[1;34m(self, evaluate_candidates)\u001b[0m\n\u001b[0;32m   1527\u001b[0m     \u001b[1;32mdef\u001b[0m \u001b[0m_run_search\u001b[0m\u001b[1;33m(\u001b[0m\u001b[0mself\u001b[0m\u001b[1;33m,\u001b[0m \u001b[0mevaluate_candidates\u001b[0m\u001b[1;33m)\u001b[0m\u001b[1;33m:\u001b[0m\u001b[1;33m\u001b[0m\u001b[1;33m\u001b[0m\u001b[0m\n\u001b[0;32m   1528\u001b[0m         \u001b[1;34m\"\"\"Search n_iter candidates from param_distributions\"\"\"\u001b[0m\u001b[1;33m\u001b[0m\u001b[1;33m\u001b[0m\u001b[0m\n\u001b[1;32m-> 1529\u001b[1;33m         evaluate_candidates(ParameterSampler(\n\u001b[0m\u001b[0;32m   1530\u001b[0m             \u001b[0mself\u001b[0m\u001b[1;33m.\u001b[0m\u001b[0mparam_distributions\u001b[0m\u001b[1;33m,\u001b[0m \u001b[0mself\u001b[0m\u001b[1;33m.\u001b[0m\u001b[0mn_iter\u001b[0m\u001b[1;33m,\u001b[0m\u001b[1;33m\u001b[0m\u001b[1;33m\u001b[0m\u001b[0m\n\u001b[0;32m   1531\u001b[0m             random_state=self.random_state))\n",
      "\u001b[1;32mC:\\ProgramData\\Anaconda3\\lib\\site-packages\\sklearn\\model_selection\\_search.py\u001b[0m in \u001b[0;36mevaluate_candidates\u001b[1;34m(candidate_params)\u001b[0m\n\u001b[0;32m    706\u001b[0m                               n_splits, n_candidates, n_candidates * n_splits))\n\u001b[0;32m    707\u001b[0m \u001b[1;33m\u001b[0m\u001b[0m\n\u001b[1;32m--> 708\u001b[1;33m                 out = parallel(delayed(_fit_and_score)(clone(base_estimator),\n\u001b[0m\u001b[0;32m    709\u001b[0m                                                        \u001b[0mX\u001b[0m\u001b[1;33m,\u001b[0m \u001b[0my\u001b[0m\u001b[1;33m,\u001b[0m\u001b[1;33m\u001b[0m\u001b[1;33m\u001b[0m\u001b[0m\n\u001b[0;32m    710\u001b[0m                                                        \u001b[0mtrain\u001b[0m\u001b[1;33m=\u001b[0m\u001b[0mtrain\u001b[0m\u001b[1;33m,\u001b[0m \u001b[0mtest\u001b[0m\u001b[1;33m=\u001b[0m\u001b[0mtest\u001b[0m\u001b[1;33m,\u001b[0m\u001b[1;33m\u001b[0m\u001b[1;33m\u001b[0m\u001b[0m\n",
      "\u001b[1;32mC:\\ProgramData\\Anaconda3\\lib\\site-packages\\joblib\\parallel.py\u001b[0m in \u001b[0;36m__call__\u001b[1;34m(self, iterable)\u001b[0m\n\u001b[0;32m   1059\u001b[0m \u001b[1;33m\u001b[0m\u001b[0m\n\u001b[0;32m   1060\u001b[0m             \u001b[1;32mwith\u001b[0m \u001b[0mself\u001b[0m\u001b[1;33m.\u001b[0m\u001b[0m_backend\u001b[0m\u001b[1;33m.\u001b[0m\u001b[0mretrieval_context\u001b[0m\u001b[1;33m(\u001b[0m\u001b[1;33m)\u001b[0m\u001b[1;33m:\u001b[0m\u001b[1;33m\u001b[0m\u001b[1;33m\u001b[0m\u001b[0m\n\u001b[1;32m-> 1061\u001b[1;33m                 \u001b[0mself\u001b[0m\u001b[1;33m.\u001b[0m\u001b[0mretrieve\u001b[0m\u001b[1;33m(\u001b[0m\u001b[1;33m)\u001b[0m\u001b[1;33m\u001b[0m\u001b[1;33m\u001b[0m\u001b[0m\n\u001b[0m\u001b[0;32m   1062\u001b[0m             \u001b[1;31m# Make sure that we get a last message telling us we are done\u001b[0m\u001b[1;33m\u001b[0m\u001b[1;33m\u001b[0m\u001b[1;33m\u001b[0m\u001b[0m\n\u001b[0;32m   1063\u001b[0m             \u001b[0melapsed_time\u001b[0m \u001b[1;33m=\u001b[0m \u001b[0mtime\u001b[0m\u001b[1;33m.\u001b[0m\u001b[0mtime\u001b[0m\u001b[1;33m(\u001b[0m\u001b[1;33m)\u001b[0m \u001b[1;33m-\u001b[0m \u001b[0mself\u001b[0m\u001b[1;33m.\u001b[0m\u001b[0m_start_time\u001b[0m\u001b[1;33m\u001b[0m\u001b[1;33m\u001b[0m\u001b[0m\n",
      "\u001b[1;32mC:\\ProgramData\\Anaconda3\\lib\\site-packages\\joblib\\parallel.py\u001b[0m in \u001b[0;36mretrieve\u001b[1;34m(self)\u001b[0m\n\u001b[0;32m    938\u001b[0m             \u001b[1;32mtry\u001b[0m\u001b[1;33m:\u001b[0m\u001b[1;33m\u001b[0m\u001b[1;33m\u001b[0m\u001b[0m\n\u001b[0;32m    939\u001b[0m                 \u001b[1;32mif\u001b[0m \u001b[0mgetattr\u001b[0m\u001b[1;33m(\u001b[0m\u001b[0mself\u001b[0m\u001b[1;33m.\u001b[0m\u001b[0m_backend\u001b[0m\u001b[1;33m,\u001b[0m \u001b[1;34m'supports_timeout'\u001b[0m\u001b[1;33m,\u001b[0m \u001b[1;32mFalse\u001b[0m\u001b[1;33m)\u001b[0m\u001b[1;33m:\u001b[0m\u001b[1;33m\u001b[0m\u001b[1;33m\u001b[0m\u001b[0m\n\u001b[1;32m--> 940\u001b[1;33m                     \u001b[0mself\u001b[0m\u001b[1;33m.\u001b[0m\u001b[0m_output\u001b[0m\u001b[1;33m.\u001b[0m\u001b[0mextend\u001b[0m\u001b[1;33m(\u001b[0m\u001b[0mjob\u001b[0m\u001b[1;33m.\u001b[0m\u001b[0mget\u001b[0m\u001b[1;33m(\u001b[0m\u001b[0mtimeout\u001b[0m\u001b[1;33m=\u001b[0m\u001b[0mself\u001b[0m\u001b[1;33m.\u001b[0m\u001b[0mtimeout\u001b[0m\u001b[1;33m)\u001b[0m\u001b[1;33m)\u001b[0m\u001b[1;33m\u001b[0m\u001b[1;33m\u001b[0m\u001b[0m\n\u001b[0m\u001b[0;32m    941\u001b[0m                 \u001b[1;32melse\u001b[0m\u001b[1;33m:\u001b[0m\u001b[1;33m\u001b[0m\u001b[1;33m\u001b[0m\u001b[0m\n\u001b[0;32m    942\u001b[0m                     \u001b[0mself\u001b[0m\u001b[1;33m.\u001b[0m\u001b[0m_output\u001b[0m\u001b[1;33m.\u001b[0m\u001b[0mextend\u001b[0m\u001b[1;33m(\u001b[0m\u001b[0mjob\u001b[0m\u001b[1;33m.\u001b[0m\u001b[0mget\u001b[0m\u001b[1;33m(\u001b[0m\u001b[1;33m)\u001b[0m\u001b[1;33m)\u001b[0m\u001b[1;33m\u001b[0m\u001b[1;33m\u001b[0m\u001b[0m\n",
      "\u001b[1;32mC:\\ProgramData\\Anaconda3\\lib\\site-packages\\joblib\\_parallel_backends.py\u001b[0m in \u001b[0;36mwrap_future_result\u001b[1;34m(future, timeout)\u001b[0m\n\u001b[0;32m    540\u001b[0m         AsyncResults.get from multiprocessing.\"\"\"\n\u001b[0;32m    541\u001b[0m         \u001b[1;32mtry\u001b[0m\u001b[1;33m:\u001b[0m\u001b[1;33m\u001b[0m\u001b[1;33m\u001b[0m\u001b[0m\n\u001b[1;32m--> 542\u001b[1;33m             \u001b[1;32mreturn\u001b[0m \u001b[0mfuture\u001b[0m\u001b[1;33m.\u001b[0m\u001b[0mresult\u001b[0m\u001b[1;33m(\u001b[0m\u001b[0mtimeout\u001b[0m\u001b[1;33m=\u001b[0m\u001b[0mtimeout\u001b[0m\u001b[1;33m)\u001b[0m\u001b[1;33m\u001b[0m\u001b[1;33m\u001b[0m\u001b[0m\n\u001b[0m\u001b[0;32m    543\u001b[0m         \u001b[1;32mexcept\u001b[0m \u001b[0mCfTimeoutError\u001b[0m \u001b[1;32mas\u001b[0m \u001b[0me\u001b[0m\u001b[1;33m:\u001b[0m\u001b[1;33m\u001b[0m\u001b[1;33m\u001b[0m\u001b[0m\n\u001b[0;32m    544\u001b[0m             \u001b[1;32mraise\u001b[0m \u001b[0mTimeoutError\u001b[0m \u001b[1;32mfrom\u001b[0m \u001b[0me\u001b[0m\u001b[1;33m\u001b[0m\u001b[1;33m\u001b[0m\u001b[0m\n",
      "\u001b[1;32mC:\\ProgramData\\Anaconda3\\lib\\concurrent\\futures\\_base.py\u001b[0m in \u001b[0;36mresult\u001b[1;34m(self, timeout)\u001b[0m\n\u001b[0;32m    430\u001b[0m                 \u001b[1;32mraise\u001b[0m \u001b[0mCancelledError\u001b[0m\u001b[1;33m(\u001b[0m\u001b[1;33m)\u001b[0m\u001b[1;33m\u001b[0m\u001b[1;33m\u001b[0m\u001b[0m\n\u001b[0;32m    431\u001b[0m             \u001b[1;32melif\u001b[0m \u001b[0mself\u001b[0m\u001b[1;33m.\u001b[0m\u001b[0m_state\u001b[0m \u001b[1;33m==\u001b[0m \u001b[0mFINISHED\u001b[0m\u001b[1;33m:\u001b[0m\u001b[1;33m\u001b[0m\u001b[1;33m\u001b[0m\u001b[0m\n\u001b[1;32m--> 432\u001b[1;33m                 \u001b[1;32mreturn\u001b[0m \u001b[0mself\u001b[0m\u001b[1;33m.\u001b[0m\u001b[0m__get_result\u001b[0m\u001b[1;33m(\u001b[0m\u001b[1;33m)\u001b[0m\u001b[1;33m\u001b[0m\u001b[1;33m\u001b[0m\u001b[0m\n\u001b[0m\u001b[0;32m    433\u001b[0m \u001b[1;33m\u001b[0m\u001b[0m\n\u001b[0;32m    434\u001b[0m             \u001b[0mself\u001b[0m\u001b[1;33m.\u001b[0m\u001b[0m_condition\u001b[0m\u001b[1;33m.\u001b[0m\u001b[0mwait\u001b[0m\u001b[1;33m(\u001b[0m\u001b[0mtimeout\u001b[0m\u001b[1;33m)\u001b[0m\u001b[1;33m\u001b[0m\u001b[1;33m\u001b[0m\u001b[0m\n",
      "\u001b[1;32mC:\\ProgramData\\Anaconda3\\lib\\concurrent\\futures\\_base.py\u001b[0m in \u001b[0;36m__get_result\u001b[1;34m(self)\u001b[0m\n\u001b[0;32m    386\u001b[0m     \u001b[1;32mdef\u001b[0m \u001b[0m__get_result\u001b[0m\u001b[1;33m(\u001b[0m\u001b[0mself\u001b[0m\u001b[1;33m)\u001b[0m\u001b[1;33m:\u001b[0m\u001b[1;33m\u001b[0m\u001b[1;33m\u001b[0m\u001b[0m\n\u001b[0;32m    387\u001b[0m         \u001b[1;32mif\u001b[0m \u001b[0mself\u001b[0m\u001b[1;33m.\u001b[0m\u001b[0m_exception\u001b[0m\u001b[1;33m:\u001b[0m\u001b[1;33m\u001b[0m\u001b[1;33m\u001b[0m\u001b[0m\n\u001b[1;32m--> 388\u001b[1;33m             \u001b[1;32mraise\u001b[0m \u001b[0mself\u001b[0m\u001b[1;33m.\u001b[0m\u001b[0m_exception\u001b[0m\u001b[1;33m\u001b[0m\u001b[1;33m\u001b[0m\u001b[0m\n\u001b[0m\u001b[0;32m    389\u001b[0m         \u001b[1;32melse\u001b[0m\u001b[1;33m:\u001b[0m\u001b[1;33m\u001b[0m\u001b[1;33m\u001b[0m\u001b[0m\n\u001b[0;32m    390\u001b[0m             \u001b[1;32mreturn\u001b[0m \u001b[0mself\u001b[0m\u001b[1;33m.\u001b[0m\u001b[0m_result\u001b[0m\u001b[1;33m\u001b[0m\u001b[1;33m\u001b[0m\u001b[0m\n",
      "\u001b[1;31mMemoryError\u001b[0m: Unable to allocate 832. KiB for an array with shape (106526, 1, 1) and data type float64"
     ]
    }
   ],
   "source": [
    "rf_randomcv=RandomizedSearchCV(estimator=model_rf,param_distributions=random_grid,n_iter,cv=3,\n",
    "                               random_state=1,n_jobs=-1)\n",
    "### fit the randomized model\n",
    "rf_randomcv.fit(X_train,y_train)"
   ]
  },
  {
   "cell_type": "code",
   "execution_count": null,
   "metadata": {},
   "outputs": [],
   "source": []
  },
  {
   "cell_type": "code",
   "execution_count": null,
   "metadata": {},
   "outputs": [],
   "source": []
  }
 ],
 "metadata": {
  "kernelspec": {
   "display_name": "Python 3",
   "language": "python",
   "name": "python3"
  },
  "language_info": {
   "codemirror_mode": {
    "name": "ipython",
    "version": 3
   },
   "file_extension": ".py",
   "mimetype": "text/x-python",
   "name": "python",
   "nbconvert_exporter": "python",
   "pygments_lexer": "ipython3",
   "version": "3.8.5"
  }
 },
 "nbformat": 4,
 "nbformat_minor": 4
}
